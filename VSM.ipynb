{
 "cells": [
  {
   "cell_type": "markdown",
   "metadata": {},
   "source": [
    "Section on VSM Models and Correlation"
   ]
  },
  {
   "cell_type": "code",
   "execution_count": 66,
   "metadata": {
    "collapsed": true
   },
   "outputs": [],
   "source": [
    "vsmdata_home = \"vsmdata\""
   ]
  },
  {
   "cell_type": "code",
   "execution_count": 67,
   "metadata": {
    "collapsed": false
   },
   "outputs": [],
   "source": [
    "import os\n",
    "import sys\n",
    "import csv\n",
    "import random\n",
    "import itertools\n",
    "from operator import itemgetter\n",
    "from collections import defaultdict\n",
    "import numpy as np\n",
    "import scipy\n",
    "import scipy.spatial.distance\n",
    "from numpy.linalg import svd\n",
    "import matplotlib.pyplot as plt\n",
    "from sklearn.decomposition import PCA\n",
    "from sklearn.manifold import TSNE\n",
    "import utils"
   ]
  },
  {
   "cell_type": "code",
   "execution_count": 68,
   "metadata": {
    "collapsed": false
   },
   "outputs": [],
   "source": [
    "ww = utils.build(os.path.join(vsmdata_home, 'imdb-wordword.csv'))"
   ]
  },
  {
   "cell_type": "code",
   "execution_count": 69,
   "metadata": {
    "collapsed": true
   },
   "outputs": [],
   "source": [
    "def cosine(u, v):        \n",
    "    return scipy.spatial.distance.cosine(u, v)"
   ]
  },
  {
   "cell_type": "code",
   "execution_count": 70,
   "metadata": {
    "collapsed": true
   },
   "outputs": [],
   "source": [
    "def neighbors(word, mat, rownames, distfunc=cosine):\n",
    "    if word not in rownames:\n",
    "        raise ValueError('%s is not in this VSM' % word)\n",
    "    w = mat[rownames.index(word)]\n",
    "    dists = [(rownames[i], distfunc(w, mat[i])) for i in range(len(mat))]\n",
    "    return sorted(dists, key=itemgetter(1), reverse=False)"
   ]
  },
  {
   "cell_type": "code",
   "execution_count": 72,
   "metadata": {
    "collapsed": true
   },
   "outputs": [],
   "source": [
    "def pmi(mat, rownames=None, positive=True):  \n",
    "    # Joint probability table:\n",
    "    p = mat / np.sum(mat, axis=None)\n",
    "    # Pre-compute column sums:\n",
    "    colprobs = np.sum(p, axis=0)\n",
    "    # Vectorize this function so that it can be applied rowwise:\n",
    "    np_pmi_log = np.vectorize((lambda x : _pmi_log(x, positive=positive)))\n",
    "    p = np.array([np_pmi_log(row / (np.sum(row)*colprobs)) for row in p])   \n",
    "    return (p, rownames)\n",
    "\n",
    "def _pmi_log(x, positive=True):\n",
    "    val = 0.0\n",
    "    if x > 0.0:\n",
    "        val = np.log(x)\n",
    "    if positive:\n",
    "        val = max([val,0.0])\n",
    "    return val"
   ]
  },
  {
   "cell_type": "code",
   "execution_count": 73,
   "metadata": {
    "collapsed": true
   },
   "outputs": [],
   "source": [
    "ww_ppmi = pmi(mat=ww[0], rownames=ww[1], positive=True)"
   ]
  },
  {
   "cell_type": "code",
   "execution_count": 74,
   "metadata": {
    "collapsed": false
   },
   "outputs": [],
   "source": [
    "def correlateds(word, mat, rownames, distfunc=cosine):\n",
    "    if word not in rownames:\n",
    "        raise ValueError('%s is not in this VSM' % word)\n",
    "    w = mat[rownames.index(word)]\n",
    "    #for i in range (len(mat)):\n",
    "        #print rownames[i]\n",
    "        #print w[i]\n",
    "    dists = [(rownames[i], w[i]) for i in range(len(mat))]\n",
    "    #print dists\n",
    "    sorted_dists = sorted(dists, key=itemgetter(1), reverse=True)\n",
    "    # print sorted_dists\n",
    "    return sorted_dists"
   ]
  },
  {
   "cell_type": "code",
   "execution_count": 75,
   "metadata": {
    "collapsed": false
   },
   "outputs": [
    {
     "data": {
      "text/plain": [
       "[('black', 0.0),\n",
       " ('white', 0.32881567985452564),\n",
       " ('african', 0.45325001162718814),\n",
       " ('racist', 0.47732926622682514),\n",
       " ('south', 0.51259175322864359),\n",
       " ('africa', 0.55713639484889721),\n",
       " ('stereotypes', 0.5731757003996738),\n",
       " ('color', 0.58615918821489299),\n",
       " ('community', 0.58929295332708698),\n",
       " ('in', 0.59004131623416445),\n",
       " ('by', 0.59086285153193496),\n",
       " ('men', 0.59120925788245771),\n",
       " ('washington', 0.59371688522192234),\n",
       " ('female', 0.60655361671233843),\n",
       " ('american', 0.61079121267662817),\n",
       " ('youth', 0.61510447242682009),\n",
       " ('culture', 0.61778696924165444),\n",
       " ('race', 0.62196307219413705),\n",
       " ('wearing', 0.62472988868639134),\n",
       " ('a', 0.62512738146024849),\n",
       " ('southern', 0.62576460870826733),\n",
       " ('barbara', 0.62680153404529793),\n",
       " ('freedom', 0.62685769378942069),\n",
       " ('chief', 0.62733164799518293),\n",
       " ('hair', 0.62734784821295619),\n",
       " ('women', 0.62818248069905402),\n",
       " ('portrayed', 0.63484459039219243),\n",
       " ('country', 0.6372804847801401),\n",
       " ('including', 0.63751617984755016),\n",
       " ('man', 0.6392856694348128),\n",
       " ('named', 0.64019401439768775),\n",
       " ('woods', 0.64181804901014106),\n",
       " ('who', 0.64288966451840523),\n",
       " ('abuse', 0.64300803939647255),\n",
       " ('police', 0.64414102048838928),\n",
       " ('rights', 0.64454320045907165),\n",
       " ('lesbian', 0.64480883823164847),\n",
       " ('against', 0.64518103661494575),\n",
       " ('cry', 0.64656055631009512),\n",
       " ('officer', 0.64683705393170365),\n",
       " ('actresses', 0.64733094016519876),\n",
       " ('stereotypical', 0.64823717396863945),\n",
       " ('from', 0.64880228783979188),\n",
       " ('sunday', 0.64950944408114097),\n",
       " ('americans', 0.64997329198967435),\n",
       " ('starring', 0.64999667979986842),\n",
       " ('leader', 0.65142666519738879),\n",
       " ('italian', 0.6516018738084508),\n",
       " ('hanging', 0.651639582284955),\n",
       " ('an', 0.65220224042822339)]"
      ]
     },
     "execution_count": 75,
     "metadata": {},
     "output_type": "execute_result"
    }
   ],
   "source": [
    "# Given a \n",
    "neighbors(word='black', mat=ww_ppmi[0], rownames=ww_ppmi[1], distfunc=cosine)[: 50]"
   ]
  },
  {
   "cell_type": "code",
   "execution_count": 76,
   "metadata": {
    "collapsed": false
   },
   "outputs": [
    {
     "data": {
      "text/plain": [
       "[('black', 2.8488175927100698),\n",
       " ('racist', 2.2748441529419652),\n",
       " ('african', 2.1173502457165405),\n",
       " ('white', 2.0635351624122569),\n",
       " ('africa', 1.7916302075458261),\n",
       " ('race', 1.6793908071345509),\n",
       " ('n', 1.5945082749843766),\n",
       " ('south', 1.532390870734716),\n",
       " ('color', 1.4336240711502488),\n",
       " ('stereotypes', 1.3387090456518356),\n",
       " ('sunday', 1.3384187572482853),\n",
       " ('freedom', 1.3364695334597672),\n",
       " ('washington', 1.2941201328978293),\n",
       " ('barbara', 1.2647634283352243),\n",
       " ('mask', 1.2547888241431515),\n",
       " ('noir', 1.2176479652968502),\n",
       " ('cry', 1.1910817567999432),\n",
       " ('lugosi', 1.1864307660390141),\n",
       " ('blair', 1.1644314823191457),\n",
       " ('mexican', 1.1395988566023065),\n",
       " ('4/10', 1.1089660801738976),\n",
       " ('maria', 1.1070035331184447),\n",
       " ('culture', 1.104911932802461),\n",
       " ('foster', 1.0709601593451377),\n",
       " ('page', 1.0623088810882766),\n",
       " ('academy', 1.0549271053289986),\n",
       " ('navy', 1.0284338116087108),\n",
       " ('stereotypical', 1.0110780933407182),\n",
       " ('actresses', 0.9937533851021888),\n",
       " ('community', 0.98971572622608806),\n",
       " ('jack', 0.98656923738316493),\n",
       " ('cat', 0.96885840390453415),\n",
       " ('chick', 0.96480151117894775),\n",
       " ('jones', 0.9571124603161828),\n",
       " ('lesbian', 0.95453139588178826),\n",
       " ('ass', 0.95322832827669801),\n",
       " ('woods', 0.94780783613645159),\n",
       " ('sold', 0.94597924873788286),\n",
       " ('southern', 0.91154310023059837),\n",
       " ('castle', 0.89596601791758335),\n",
       " ('hat', 0.89444876082681268),\n",
       " ('lawyer', 0.89399084189279221),\n",
       " ('skin', 0.88893015461406022),\n",
       " ('harris', 0.88097532604787387),\n",
       " ('depiction', 0.88076715805556127),\n",
       " ('invisible', 0.86404785532649497),\n",
       " ('bus', 0.84226874158885123),\n",
       " ('stopped', 0.83778236955789875),\n",
       " ('bright', 0.83173930956879272),\n",
       " ('dressed', 0.82076677419991739)]"
      ]
     },
     "execution_count": 76,
     "metadata": {},
     "output_type": "execute_result"
    }
   ],
   "source": [
    "correlateds(word='black', mat=ww_ppmi[0], rownames=ww_ppmi[1], distfunc=cosine)[: 50]"
   ]
  },
  {
   "cell_type": "code",
   "execution_count": null,
   "metadata": {
    "collapsed": true
   },
   "outputs": [],
   "source": []
  }
 ],
 "metadata": {
  "kernelspec": {
   "display_name": "Python 2",
   "language": "python",
   "name": "python2"
  },
  "language_info": {
   "codemirror_mode": {
    "name": "ipython",
    "version": 2
   },
   "file_extension": ".py",
   "mimetype": "text/x-python",
   "name": "python",
   "nbconvert_exporter": "python",
   "pygments_lexer": "ipython2",
   "version": "2.7.11"
  }
 },
 "nbformat": 4,
 "nbformat_minor": 0
}
