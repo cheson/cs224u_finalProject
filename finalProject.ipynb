{
 "cells": [
  {
   "cell_type": "raw",
   "metadata": {
    "collapsed": true
   },
   "source": [
    "__author__ = \"Theodora Chu, Josh Cohen, Jason Chen\"\n",
    "__version__ = \"CS224u, Stanford, Spring 2016 term\""
   ]
  },
  {
   "cell_type": "markdown",
   "metadata": {},
   "source": [
    "# Setup"
   ]
  },
  {
   "cell_type": "code",
   "execution_count": 2,
   "metadata": {
    "collapsed": false
   },
   "outputs": [],
   "source": [
    "import os\n",
    "import nltk\n",
    "\n",
    "from nltk.stem.lancaster import LancasterStemmer\n",
    "from nltk.stem.porter import PorterStemmer"
   ]
  },
  {
   "cell_type": "code",
   "execution_count": 3,
   "metadata": {
    "collapsed": true
   },
   "outputs": [],
   "source": [
    "# Info for creating VSM data\n",
    "vsmdata_home = \"vsmdata\"\n",
    "import os\n",
    "import sys\n",
    "import csv\n",
    "import random\n",
    "import itertools\n",
    "from operator import itemgetter\n",
    "from collections import defaultdict\n",
    "import numpy as np\n",
    "import scipy\n",
    "import scipy.spatial.distance\n",
    "from numpy.linalg import svd\n",
    "import matplotlib.pyplot as plt\n",
    "from sklearn.decomposition import PCA\n",
    "from sklearn.manifold import TSNE\n",
    "import utils\n",
    "import string"
   ]
  },
  {
   "cell_type": "code",
   "execution_count": 4,
   "metadata": {
    "collapsed": true
   },
   "outputs": [],
   "source": [
    "equivalence_set = ['african american', 'african-american', 'black', 'african', 'nigger', 'nigga']"
   ]
  },
  {
   "cell_type": "code",
   "execution_count": 5,
   "metadata": {
    "collapsed": false
   },
   "outputs": [],
   "source": [
    "seed_set2 = ['asian-american', 'african-american', 'black', 'african', 'chinese', 'japanese', 'asian', 'jewish', 'latino', 'mexican', 'russian', 'american']"
   ]
  },
  {
   "cell_type": "markdown",
   "metadata": {},
   "source": [
    "# File Input\n",
    "Takes in a text file and returns a list of ordered unigrams U. \n",
    "It should also consider stemming and other relevant pre-processing. Josh's note: parse \"African American\" as a unigram."
   ]
  },
  {
   "cell_type": "code",
   "execution_count": 14,
   "metadata": {
    "collapsed": false
   },
   "outputs": [],
   "source": [
    "def parse_NYT_articles_seedword(num_files, root_directory='cor-por-a/2006/', file_percentage=.1):\n",
    "    overallCorpus = [];\n",
    "    i = 0;\n",
    "    print \"Parsing \" + str(100*file_percentage) + \"% of files. Will cap hard at \" + str(num_files) + \" files.\"\n",
    "    for dirname_1 in os.listdir(root_directory):\n",
    "        if (dirname_1 == '.DS_Store'):\n",
    "            continue;\n",
    "        print \"Parsing outer directory: \" + dirname_1;\n",
    "        for dirname in os.listdir(root_directory + dirname_1 + '/'):\n",
    "            if (dirname == '.DS_Store'):\n",
    "                continue;\n",
    "            print \"parsing directory \" + root_directory + dirname_1 + '/' + dirname;\n",
    "            for filename in os.listdir(root_directory + dirname_1 + '/' + dirname + '/'):\n",
    "                if random.random() <= file_percentage:\n",
    "                    if (i >= num_files):\n",
    "                        print 'Num files: parsed overall ' + str(i);\n",
    "                        return overallCorpus\n",
    "                    if (filename == '.DS_Store'):\n",
    "                        continue;\n",
    "                    article_file = root_directory + dirname_1 + '/' + dirname + '/' + filename;\n",
    "                    article_rep = parse_NYT_article(article_file);\n",
    "                    if (article_rep):\n",
    "                        article_text = remove_punctuation(article_rep[1]).split(\" \");\n",
    "                        overallCorpus += ' ';\n",
    "                        overallCorpus += article_text;\n",
    "                    i = i+1;\n",
    "    print \"num files: \" + str(i);\n",
    "    return overallCorpus;"
   ]
  },
  {
   "cell_type": "code",
   "execution_count": 15,
   "metadata": {
    "collapsed": true
   },
   "outputs": [],
   "source": [
    "def parse_NYT_articles_worddoc(num_files, root_directory='cor-por-a/2006/'):\n",
    "    overallCorpus = [];\n",
    "    file_list = [];\n",
    "    i = 0;\n",
    "    for dirname_1 in os.listdir(root_directory):\n",
    "        if (dirname_1 == '.DS_Store'):\n",
    "            continue;\n",
    "        print \"Parsing outer file directory \" + dirname_1;\n",
    "        for dirname in os.listdir(root_directory + dirname_1 + '/'):\n",
    "            if (dirname == '.DS_Store'):\n",
    "                continue;\n",
    "            print \"parsing directory \" + root_directory + dirname_1 + '/' + dirname;\n",
    "            for filename in os.listdir(root_directory + dirname_1 + '/' + dirname + '/'):      \n",
    "                if (i >= num_files):\n",
    "                    print 'Num files parsed in total: ' + str(i);\n",
    "                    return (overallCorpus, file_list)\n",
    "                if (filename == '.DS_Store'):\n",
    "                    continue;\n",
    "                article_file = root_directory + dirname_1 + '/' + dirname + '/' + filename;\n",
    "                file_list.append(filename)\n",
    "                article_rep = parse_NYT_article(article_file);\n",
    "                if (article_rep):\n",
    "                    article_text = remove_punctuation(article_rep[1]).split(\" \");\n",
    "                    for word in article_text:\n",
    "                        overallCorpus.append((word, filename))\n",
    "                i = i+1;\n",
    "    print \"Num files parsed in total: \" + str(i)\n",
    "    return (overallCorpus, file_list);"
   ]
  },
  {
   "cell_type": "markdown",
   "metadata": {},
   "source": [
    "# Correlation Matrix\n",
    "1. Parse U to create a word-word frequency matrix M, where each row represents a word and each entry x(i,j) represents the number of times word i co-occurs with word j.\n",
    "2. Convert M to a new matrix M’ with some sort of correlation operation. We could use PMI, Occai (see Josh’s paper), CSA, or some other correlation structure.\n",
    "3. Let row a represent the unigram “African American”. Take in that row, and output an ordered list of (this_unigram, correlation_score) pairs which represent the correlation score of this_unigram with the term “African American”\n",
    "4. Produce a list L of the top 100 correlated words with the term “African American”\n"
   ]
  },
  {
   "cell_type": "code",
   "execution_count": 16,
   "metadata": {
    "collapsed": false
   },
   "outputs": [],
   "source": [
    "# returns matrix object where mat_obj[0] refers to the seed_word matrix, where mat[1] refers\n",
    "# to the vocab list, where mat[2] refers to a frequency list,\n",
    "# where mat_obj[0][0] refers to the vector representing co-occurrence for first word in seed\n",
    "# set, and where mat_obj[0][len(seed_set)] refers to a vector of overall counts for each term \n",
    "def createSeedWordMatrixNYT(num_files, file_year=\"2006\", percentage_of_files=.1):\n",
    "    # Initializes vector of terms\n",
    "    corpus = \"cor-por-a/\" + file_year + \"/\"\n",
    "    u_vec = [x.lower() for x in parse_NYT_articles_seedword(num_files, root_directory=corpus, file_percentage=percentage_of_files)];\n",
    "    num_terms = len(u_vec);\n",
    "    print 'num terms in corpus: ' + str(num_terms);\n",
    "    vocab_vec = np.unique(u_vec).tolist()\n",
    "    vocab_size = len(vocab_vec)\n",
    "    print 'vocab size: ' + str(vocab_size);\n",
    "    print 'matrix dimensions: ' + str(len(seed_set2)) + ' x ' + str(len(vocab_vec));\n",
    "    mat = [[0 for x in range(vocab_size)] for y in range(len(seed_set2)+1)]\n",
    "    frequency_vec = [0 for x in range(vocab_size)]\n",
    "\n",
    "    index_dict = {};\n",
    "    for i in range (0, len(vocab_vec)):\n",
    "        index_dict[vocab_vec[i]] = i;\n",
    "    print 'index_dict created!'\n",
    "    \n",
    "    # Updates matrix, using bigrams\n",
    "    term = u_vec[0];\n",
    "    term_neighbor_r = u_vec[1];\n",
    "    index_term = index_dict[term];\n",
    "    frequency_vec[index_term] += 1;\n",
    "    if (any(seed_word == term for seed_word in seed_set2)):\n",
    "            index_seed = seed_set2.index(term);\n",
    "            index_neighbor_r = index_dict[term_neighbor_r];\n",
    "            mat[index_seed][index_neighbor_r] += 1;\n",
    "            mat[index_seed][index_term] += 1;\n",
    "    for i in range(1, len(u_vec)-1):\n",
    "        if (i % 1000 == 0):\n",
    "            print 'parsed ' + str(i) + '/' + str(num_terms) + ' terms'\n",
    "        term = u_vec[i];\n",
    "        term_neighbor_l = u_vec[i-1];\n",
    "        term_neighbor_r = u_vec[i+1];\n",
    "        index_term = index_dict[term]\n",
    "        \n",
    "        frequency_vec[index_term] += 1;\n",
    "        if (any(seed_word == term for seed_word in seed_set2)):\n",
    "            index_seed = seed_set2.index(term);\n",
    "            index_neighbor_l = index_dict[term_neighbor_l]\n",
    "            index_neighbor_r = index_dict[term_neighbor_r]\n",
    "            \n",
    "            mat[index_seed][index_neighbor_l] += 1;\n",
    "            mat[index_seed][index_neighbor_r] += 1;\n",
    "            mat[index_seed][index_term] += 1;\n",
    "    term = u_vec[len(u_vec)-1];\n",
    "    term_neighbor_l = u_vec[len(u_vec)-2];\n",
    "    index_term = index_dict[term]\n",
    "    \n",
    "    frequency_vec[index_term] += 1;\n",
    "    if (any(seed_word == term for seed_word in seed_set2)):\n",
    "            index_seed = seed_set2.index(term);\n",
    "            index_neighbor_l = index_dict[term];\n",
    "            mat[index_seed][index_neighbor_l] += 1;\n",
    "            mat[index_seed][index_term] += 1;\n",
    "    \n",
    "\n",
    "    #   Filter the matrix by removing all words with frequency less than cutoff_freq\n",
    "    mat = np.transpose(mat)\n",
    "    indicies = []\n",
    "    cutoff_freq = 5\n",
    "    for i in range(0, len(frequency_vec)):\n",
    "        if frequency_vec[i] > cutoff_freq:\n",
    "            indicies.append(i) #keep track of indices of all words with frequency < cutoff_freq\n",
    "    print 'Parsed ' + str(num_terms) + '/' + str(num_terms) + ' terms';\n",
    "    #update mat, freq_vec, and vocab_vec to include only the indices we saved\n",
    "    mat = mat[np.array(indicies)]\n",
    "    frequency_vec = np.array(frequency_vec)\n",
    "    frequency_vec = frequency_vec[np.array(indicies)]\n",
    "    temp_vocab = []\n",
    "    for index in indicies:\n",
    "        temp_vocab.append(vocab_vec[index])\n",
    "    vocab_vec = temp_vocab\n",
    "    #transpose mat back to original shape\n",
    "    mat = np.transpose(mat)\n",
    "    print(\"New vocab size: \" + str(len(mat[0])))\n",
    "    return (mat, vocab_vec, frequency_vec);"
   ]
  },
  {
   "cell_type": "code",
   "execution_count": 70,
   "metadata": {
    "collapsed": false
   },
   "outputs": [],
   "source": [
    "# Returns a word, correlation list tuple for each seed in seed_set2\n",
    "from nltk.corpus import stopwords\n",
    "def getCorrelationLists(mat_obj, rem_stopwords=1):\n",
    "    tupleArr = []\n",
    "    # Word lists for each word\n",
    "    for j in range(len(seed_set2)):\n",
    "        w = mat_obj[0][j]\n",
    "        unfiltered_dists = [(mat_obj[1][i], w[i]) for i in range(len(w))]\n",
    "        \n",
    "        # Without stop words\n",
    "        dists = [];\n",
    "        if rem_stopwords:\n",
    "            dists = [(word, frequency) for (word, frequency) in unfiltered_dists if word not in stopwords.words('english')]\n",
    "        else:\n",
    "            dists = unfiltered_dists\n",
    "        sorted_dists = sorted(dists, key=itemgetter(1), reverse=True)\n",
    "        print \"Correlation list for word: \" + seed_set2[j] + \"; \" + str(sorted_dists[:20])\n",
    "        tupleArr.append((seed_set2[j], sorted_dists));\n",
    "\n",
    "    #frequency list for each word:\n",
    "    w = mat_obj[2]\n",
    "    dists = [(mat_obj[1][i], w[i]) for i in range(len(w))]\n",
    "    sorted_dists = sorted(dists, key=itemgetter(1), reverse=True)\n",
    "    print \"Frequency list: \" + str(sorted_dists[:20])\n",
    "    tupleArr.append((seed_set2[j], sorted_dists));\n",
    "    \n",
    "    return tupleArr;"
   ]
  },
  {
   "cell_type": "code",
   "execution_count": 71,
   "metadata": {
    "collapsed": true
   },
   "outputs": [],
   "source": [
    "def cosine(u, v):        \n",
    "    return scipy.spatial.distance.cosine(u, v)"
   ]
  },
  {
   "cell_type": "code",
   "execution_count": 72,
   "metadata": {
    "collapsed": true
   },
   "outputs": [],
   "source": [
    "def neighbors(word, mat, rownames, distfunc=cosine):\n",
    "    if word not in rownames:\n",
    "        raise ValueError('%s is not in this VSM' % word)\n",
    "    w = mat[rownames.index(word)]\n",
    "    dists = [(rownames[i], distfunc(w, mat[i])) for i in range(len(mat))]\n",
    "    return sorted(dists, key=itemgetter(1), reverse=False)"
   ]
  },
  {
   "cell_type": "code",
   "execution_count": 73,
   "metadata": {
    "collapsed": true
   },
   "outputs": [],
   "source": [
    "from __future__ import division\n",
    "# PMI log: p(x, y)/ p(x)p(y)\n",
    "def pmi_seed(mat_obj, rownames=None, positive=True):  \n",
    "    rownames = mat_obj[1];\n",
    "    frequencies = mat_obj[2];\n",
    "    word_count = np.sum(frequencies, axis=None)\n",
    "    \n",
    "    # Joint probability table:\n",
    "    p = mat_obj[0] / word_count;\n",
    "    colprobs = frequencies/word_count;\n",
    "    sum_of_colprobs = np.sum(colprobs)\n",
    "    \n",
    "    \n",
    "    np_pmi_log = np.vectorize((lambda x : _pmi_log(x, positive=positive)))    \n",
    "    mat_ppmi = [];\n",
    "    for row in p:\n",
    "        if np.sum(row) > 0:\n",
    "            mat_ppmi.append(np_pmi_log(row / (np.sum(row)*colprobs)));\n",
    "        else:\n",
    "            mat_ppmi.append([0 for x in row])\n",
    "    return (mat_ppmi, rownames, frequencies)"
   ]
  },
  {
   "cell_type": "code",
   "execution_count": 74,
   "metadata": {
    "collapsed": true
   },
   "outputs": [],
   "source": [
    "def _pmi_log(x, positive=True):\n",
    "    val = 0.0\n",
    "    if x > 0.0:\n",
    "        val = np.log(x)\n",
    "    if positive:\n",
    "        val = max([val,0.0])\n",
    "    return val"
   ]
  },
  {
   "cell_type": "markdown",
   "metadata": {},
   "source": [
    "# Tools"
   ]
  },
  {
   "cell_type": "markdown",
   "metadata": {},
   "source": [
    "### Saving a matrix ###"
   ]
  },
  {
   "cell_type": "code",
   "execution_count": 17,
   "metadata": {
    "collapsed": false
   },
   "outputs": [],
   "source": [
    "# import os\n",
    "# if not os.path.exists('my_file'): numpy.savetxt('my_file', my_array)\n",
    "\n",
    "#this will save the result of our matrix into a human-readable text file, and the original array is easily\n",
    "#recreated using loadtxt.\n",
    "\n",
    "# np.savetxt(\"mat_features\", mat[0])\n",
    "# np.savetxt(\"mat_labels\", mat[1])\n",
    "# np.loadtxt(\"mat_labels\")"
   ]
  },
  {
   "cell_type": "markdown",
   "metadata": {},
   "source": [
    "   ### tool to remove punctuation from a text ###"
   ]
  },
  {
   "cell_type": "code",
   "execution_count": 18,
   "metadata": {
    "collapsed": false
   },
   "outputs": [
    {
     "name": "stdout",
     "output_type": "stream",
     "text": [
      "string  With  Punctuation \n"
     ]
    }
   ],
   "source": [
    "s = \"string. With. Punctuation?\" # Sample string\n",
    "def remove_punctuation(text):\n",
    "    for c in string.punctuation:\n",
    "        if c != '-': #excluding - because we want to preserve african-american as a token\n",
    "            text = text.replace(c,\" \")\n",
    "    return text\n",
    "\n",
    "print(remove_punctuation(s))\n",
    "\n",
    "\n",
    "#period, question mark, exclamation point, comma, semicolon, colon, dash, \n",
    "#hyphen, parentheses, brackets, braces, apostrophe, quotation marks, and ellipses"
   ]
  },
  {
   "cell_type": "markdown",
   "metadata": {},
   "source": [
    "### tools to parse out text from ntif/xml document for NYT articles ###"
   ]
  },
  {
   "cell_type": "code",
   "execution_count": 19,
   "metadata": {
    "collapsed": false
   },
   "outputs": [
    {
     "data": {
      "text/plain": [
       "('2007',\n",
       " 'A doctor who works at a clinic in Jamaica has been charged with insurance fraud, accused of billing insurance companies for tests that were never performed on victims of motor vehicle accidents, prosecutors said yesterday. The doctor, Alexander Israeli, 53, of Middle Village, was arraigned in Criminal Court on Monday night on charges of grand larceny and insurance fraud, said Richard A. Brown, the Queens district attorney. Mr. Brown said that Dr. Israeli billed insurance companies last year for $21,000 worth of neurological tests that were not performed. He faces loss of his medical license and up to seven years in prison if convicted, prosecutors said.')"
      ]
     },
     "execution_count": 19,
     "metadata": {},
     "output_type": "execute_result"
    }
   ],
   "source": [
    "# http://docs.python-guide.org/en/latest/scenarios/xml/\n",
    "# http://stackoverflow.com/questions/1912434/how-do-i-parse-xml-in-python\n",
    "import xml.etree.ElementTree as ET\n",
    "\n",
    "def parse_NYT_article(xmlFile): \n",
    "    tree = ET.parse(xmlFile)\n",
    "    root = tree.getroot()\n",
    "    year = ''\n",
    "    article_text = '';\n",
    "    for child in root:\n",
    "        if child.tag == 'head':\n",
    "            for subchild in child:\n",
    "                if 'name' in subchild.attrib:\n",
    "                    if subchild.attrib['name'] == 'publication_year':\n",
    "                        year = subchild.attrib['content']\n",
    "        if child.tag == 'body':\n",
    "            body = child\n",
    "    for child in body:\n",
    "        if child.tag == 'body.content':\n",
    "            content = child\n",
    "    for child in content:\n",
    "        if child.attrib == {'class': 'full_text'}:\n",
    "            for paragraph in child:\n",
    "                article_text += paragraph.text\n",
    "            return (year, article_text)\n",
    "                \n",
    "parse_NYT_article('nyt_sample_2.xml')"
   ]
  },
  {
   "cell_type": "markdown",
   "metadata": {},
   "source": [
    "# Creating Seed Word Matrix"
   ]
  },
  {
   "cell_type": "code",
   "execution_count": 20,
   "metadata": {
    "collapsed": false
   },
   "outputs": [],
   "source": [
    "all_years = [\"1987\", \"1988\", \"1989\", \"1990\", \"1991\", \"1992\", \"1993\", \"1994\", \"1995\", \"1996\", \"1997\", \"1998\", \"1999\", \"2000\", \"2001\", \"2002\", \"2003\", \"2004\", \"2005\", \"2006\", \"2007\"]"
   ]
  },
  {
   "cell_type": "code",
   "execution_count": 22,
   "metadata": {
    "collapsed": false
   },
   "outputs": [
    {
     "name": "stdout",
     "output_type": "stream",
     "text": [
      "1987\n",
      "Parsing 10.0% of files. Will cap hard at 10 files.\n",
      "Parsing outer directory: 01\n",
      "parsing directory cor-por-a/1987/01/01\n",
      "Num files: parsed overall 10\n",
      "num terms in corpus: 6094\n",
      "vocab size: 1818\n",
      "matrix dimensions: 12 x 1818\n",
      "index_dict created!\n",
      "parsed 1000/6094 terms\n",
      "parsed 2000/6094 terms\n",
      "parsed 3000/6094 terms\n",
      "parsed 4000/6094 terms\n",
      "parsed 5000/6094 terms\n",
      "parsed 6000/6094 terms\n",
      "Parsed 6094/6094 terms\n",
      "New vocab size: 128\n",
      "1988\n",
      "Parsing 10.0% of files. Will cap hard at 10 files.\n",
      "Parsing outer directory: 01\n",
      "parsing directory cor-por-a/1988/01/01\n",
      "Num files: parsed overall 10\n",
      "num terms in corpus: 6563\n",
      "vocab size: 1810\n",
      "matrix dimensions: 12 x 1810\n",
      "index_dict created!\n",
      "parsed 1000/6563 terms\n",
      "parsed 2000/6563 terms\n",
      "parsed 3000/6563 terms\n",
      "parsed 4000/6563 terms\n",
      "parsed 5000/6563 terms\n",
      "parsed 6000/6563 terms\n",
      "Parsed 6563/6563 terms\n",
      "New vocab size: 148\n",
      "1989\n",
      "Parsing 10.0% of files. Will cap hard at 10 files.\n",
      "Parsing outer directory: 01\n",
      "parsing directory cor-por-a/1989/01/01\n",
      "Num files: parsed overall 10\n",
      "num terms in corpus: 6817\n",
      "vocab size: 2022\n",
      "matrix dimensions: 12 x 2022\n",
      "index_dict created!\n",
      "parsed 1000/6817 terms\n",
      "parsed 2000/6817 terms\n",
      "parsed 3000/6817 terms\n",
      "parsed 4000/6817 terms\n",
      "parsed 5000/6817 terms\n",
      "parsed 6000/6817 terms\n",
      "Parsed 6817/6817 terms\n",
      "New vocab size: 133\n",
      "1990\n",
      "Parsing 10.0% of files. Will cap hard at 10 files.\n",
      "Parsing outer directory: 01\n",
      "parsing directory cor-por-a/1990/01/01\n",
      "Num files: parsed overall 10\n",
      "num terms in corpus: 8958\n",
      "vocab size: 2229\n",
      "matrix dimensions: 12 x 2229\n",
      "index_dict created!\n",
      "parsed 1000/8958 terms\n",
      "parsed 2000/8958 terms\n",
      "parsed 3000/8958 terms\n",
      "parsed 4000/8958 terms\n",
      "parsed 5000/8958 terms\n",
      "parsed 6000/8958 terms\n",
      "parsed 7000/8958 terms\n",
      "parsed 8000/8958 terms\n",
      "Parsed 8958/8958 terms\n",
      "New vocab size: 220\n",
      "1991\n",
      "Parsing 10.0% of files. Will cap hard at 10 files.\n",
      "Parsing outer directory: 01\n",
      "parsing directory cor-por-a/1991/01/01\n",
      "Num files: parsed overall 10\n",
      "num terms in corpus: 6163\n",
      "vocab size: 1744\n",
      "matrix dimensions: 12 x 1744\n",
      "index_dict created!\n",
      "parsed 1000/6163 terms\n",
      "parsed 2000/6163 terms\n",
      "parsed 3000/6163 terms\n",
      "parsed 4000/6163 terms\n",
      "parsed 5000/6163 terms\n",
      "parsed 6000/6163 terms\n",
      "Parsed 6163/6163 terms\n",
      "New vocab size: 145\n",
      "1992\n",
      "Parsing 10.0% of files. Will cap hard at 10 files.\n",
      "Parsing outer directory: 01\n",
      "parsing directory cor-por-a/1992/01/01\n",
      "Num files: parsed overall 10\n",
      "num terms in corpus: 5726\n",
      "vocab size: 1540\n",
      "matrix dimensions: 12 x 1540\n",
      "index_dict created!\n",
      "parsed 1000/5726 terms\n",
      "parsed 2000/5726 terms\n",
      "parsed 3000/5726 terms\n",
      "parsed 4000/5726 terms\n",
      "parsed 5000/5726 terms\n",
      "Parsed 5726/5726 terms\n",
      "New vocab size: 130\n",
      "1993\n",
      "Parsing 10.0% of files. Will cap hard at 10 files.\n",
      "Parsing outer directory: 01\n",
      "parsing directory cor-por-a/1993/01/01\n",
      "Num files: parsed overall 10\n",
      "num terms in corpus: 6474\n",
      "vocab size: 1945\n",
      "matrix dimensions: 12 x 1945\n",
      "index_dict created!\n",
      "parsed 1000/6474 terms\n",
      "parsed 2000/6474 terms\n",
      "parsed 3000/6474 terms\n",
      "parsed 4000/6474 terms\n",
      "parsed 5000/6474 terms\n",
      "parsed 6000/6474 terms\n",
      "Parsed 6474/6474 terms\n",
      "New vocab size: 145\n",
      "1994\n",
      "Parsing 10.0% of files. Will cap hard at 10 files.\n",
      "Parsing outer directory: 01\n",
      "parsing directory cor-por-a/1994/01/01\n",
      "Num files: parsed overall 10\n",
      "num terms in corpus: 7109\n",
      "vocab size: 1987\n",
      "matrix dimensions: 12 x 1987\n",
      "index_dict created!\n",
      "parsed 1000/7109 terms\n",
      "parsed 2000/7109 terms\n",
      "parsed 3000/7109 terms\n",
      "parsed 4000/7109 terms\n",
      "parsed 5000/7109 terms\n",
      "parsed 6000/7109 terms\n",
      "parsed 7000/7109 terms\n",
      "Parsed 7109/7109 terms\n",
      "New vocab size: 168\n",
      "1995\n",
      "Parsing 10.0% of files. Will cap hard at 10 files.\n",
      "Parsing outer directory: 01\n",
      "parsing directory cor-por-a/1995/01/01\n",
      "Num files: parsed overall 10\n",
      "num terms in corpus: 3910\n",
      "vocab size: 1336\n",
      "matrix dimensions: 12 x 1336\n",
      "index_dict created!\n",
      "parsed 1000/3910 terms\n",
      "parsed 2000/3910 terms\n",
      "parsed 3000/3910 terms\n",
      "Parsed 3910/3910 terms\n",
      "New vocab size: 85\n",
      "1996\n",
      "Parsing 10.0% of files. Will cap hard at 10 files.\n",
      "Parsing outer directory: 01\n",
      "parsing directory cor-por-a/1996/01/01\n",
      "Num files: parsed overall 10\n",
      "num terms in corpus: 5277\n",
      "vocab size: 1698\n",
      "matrix dimensions: 12 x 1698\n",
      "index_dict created!\n",
      "parsed 1000/5277 terms\n",
      "parsed 2000/5277 terms\n",
      "parsed 3000/5277 terms\n",
      "parsed 4000/5277 terms\n",
      "parsed 5000/5277 terms\n",
      "Parsed 5277/5277 terms\n",
      "New vocab size: 108\n",
      "1997\n",
      "Parsing 10.0% of files. Will cap hard at 10 files.\n",
      "Parsing outer directory: 01\n",
      "parsing directory cor-por-a/1997/01/01\n",
      "Num files: parsed overall 10\n",
      "num terms in corpus: 5619\n",
      "vocab size: 1620\n",
      "matrix dimensions: 12 x 1620\n",
      "index_dict created!\n",
      "parsed 1000/5619 terms\n",
      "parsed 2000/5619 terms\n",
      "parsed 3000/5619 terms\n",
      "parsed 4000/5619 terms\n",
      "parsed 5000/5619 terms\n",
      "Parsed 5619/5619 terms\n",
      "New vocab size: 120\n",
      "1998\n",
      "Parsing 10.0% of files. Will cap hard at 10 files.\n",
      "Parsing outer directory: 01\n",
      "parsing directory cor-por-a/1998/01/01\n",
      "Num files: parsed overall 10\n",
      "num terms in corpus: 2158\n",
      "vocab size: 815\n",
      "matrix dimensions: 12 x 815\n",
      "index_dict created!\n",
      "parsed 1000/2158 terms\n",
      "parsed 2000/2158 terms\n",
      "Parsed 2158/2158 terms\n",
      "New vocab size: 41\n",
      "1999\n",
      "Parsing 10.0% of files. Will cap hard at 10 files.\n",
      "Parsing outer directory: 01\n",
      "parsing directory cor-por-a/1999/01/01\n",
      "Num files: parsed overall 10\n",
      "num terms in corpus: 14668\n",
      "vocab size: 3788\n",
      "matrix dimensions: 12 x 3788\n",
      "index_dict created!\n",
      "parsed 1000/14668 terms\n",
      "parsed 2000/14668 terms\n",
      "parsed 3000/14668 terms\n",
      "parsed 4000/14668 terms\n",
      "parsed 5000/14668 terms\n",
      "parsed 6000/14668 terms\n",
      "parsed 7000/14668 terms\n",
      "parsed 8000/14668 terms\n",
      "parsed 9000/14668 terms\n",
      "parsed 10000/14668 terms\n",
      "parsed 11000/14668 terms\n",
      "parsed 12000/14668 terms\n",
      "parsed 13000/14668 terms\n",
      "parsed 14000/14668 terms\n",
      "Parsed 14668/14668 terms\n",
      "New vocab size: 279\n",
      "2000\n",
      "Parsing 10.0% of files. Will cap hard at 10 files.\n",
      "Parsing outer directory: 01\n",
      "parsing directory cor-por-a/2000/01/01\n",
      "Num files: parsed overall 10\n",
      "num terms in corpus: 9487\n",
      "vocab size: 2422\n",
      "matrix dimensions: 12 x 2422\n",
      "index_dict created!\n",
      "parsed 1000/9487 terms\n",
      "parsed 2000/9487 terms\n",
      "parsed 3000/9487 terms\n",
      "parsed 4000/9487 terms\n",
      "parsed 5000/9487 terms\n",
      "parsed 6000/9487 terms\n",
      "parsed 7000/9487 terms\n",
      "parsed 8000/9487 terms\n",
      "parsed 9000/9487 terms\n",
      "Parsed 9487/9487 terms\n",
      "New vocab size: 228\n",
      "2001\n",
      "Parsing 10.0% of files. Will cap hard at 10 files.\n",
      "Parsing outer directory: 01\n",
      "parsing directory cor-por-a/2001/01/01\n",
      "Num files: parsed overall 10\n",
      "num terms in corpus: 5507\n",
      "vocab size: 1682\n",
      "matrix dimensions: 12 x 1682\n",
      "index_dict created!\n",
      "parsed 1000/5507 terms\n",
      "parsed 2000/5507 terms\n",
      "parsed 3000/5507 terms\n",
      "parsed 4000/5507 terms\n",
      "parsed 5000/5507 terms\n",
      "Parsed 5507/5507 terms\n",
      "New vocab size: 119\n",
      "2002\n",
      "Parsing 10.0% of files. Will cap hard at 10 files.\n",
      "Parsing outer directory: 01\n",
      "parsing directory cor-por-a/2002/01/01\n",
      "Num files: parsed overall 10\n",
      "num terms in corpus: 8460\n",
      "vocab size: 2151\n",
      "matrix dimensions: 12 x 2151\n",
      "index_dict created!\n",
      "parsed 1000/8460 terms\n",
      "parsed 2000/8460 terms\n",
      "parsed 3000/8460 terms\n",
      "parsed 4000/8460 terms\n",
      "parsed 5000/8460 terms\n",
      "parsed 6000/8460 terms\n",
      "parsed 7000/8460 terms\n",
      "parsed 8000/8460 terms\n",
      "Parsed 8460/8460 terms\n",
      "New vocab size: 178\n",
      "2003\n",
      "Parsing 10.0% of files. Will cap hard at 10 files.\n",
      "Parsing outer directory: 01\n",
      "parsing directory cor-por-a/2003/01/01\n",
      "Num files: parsed overall 10\n",
      "num terms in corpus: 8315\n",
      "vocab size: 2387\n",
      "matrix dimensions: 12 x 2387\n",
      "index_dict created!\n",
      "parsed 1000/8315 terms\n",
      "parsed 2000/8315 terms\n",
      "parsed 3000/8315 terms\n",
      "parsed 4000/8315 terms\n",
      "parsed 5000/8315 terms\n",
      "parsed 6000/8315 terms\n",
      "parsed 7000/8315 terms\n",
      "parsed 8000/8315 terms\n",
      "Parsed 8315/8315 terms\n",
      "New vocab size: 180\n",
      "2004\n",
      "Parsing 10.0% of files. Will cap hard at 10 files.\n",
      "Parsing outer directory: 01\n",
      "parsing directory cor-por-a/2004/01/01\n",
      "Num files: parsed overall 10\n",
      "num terms in corpus: 7812\n",
      "vocab size: 2166\n",
      "matrix dimensions: 12 x 2166\n",
      "index_dict created!\n",
      "parsed 1000/7812 terms\n",
      "parsed 2000/7812 terms\n",
      "parsed 3000/7812 terms\n",
      "parsed 4000/7812 terms\n",
      "parsed 5000/7812 terms\n",
      "parsed 6000/7812 terms\n",
      "parsed 7000/7812 terms\n",
      "Parsed 7812/7812 terms\n",
      "New vocab size: 175\n",
      "2005\n",
      "Parsing 10.0% of files. Will cap hard at 10 files.\n",
      "Parsing outer directory: 01\n",
      "parsing directory cor-por-a/2005/01/01\n",
      "parsing directory cor-por-a/2005/01/02\n",
      "Num files: parsed overall 10\n",
      "num terms in corpus: 3352\n",
      "vocab size: 1142\n",
      "matrix dimensions: 12 x 1142\n",
      "index_dict created!\n",
      "parsed 1000/3352 terms\n",
      "parsed 2000/3352 terms\n",
      "parsed 3000/3352 terms\n",
      "Parsed 3352/3352 terms\n",
      "New vocab size: 64\n",
      "2006\n",
      "Parsing 10.0% of files. Will cap hard at 10 files.\n",
      "Parsing outer directory: 01\n",
      "parsing directory cor-por-a/2006/01/01\n",
      "Num files: parsed overall 10\n",
      "num terms in corpus: 11858\n",
      "vocab size: 3084\n",
      "matrix dimensions: 12 x 3084\n",
      "index_dict created!\n",
      "parsed 1000/11858 terms\n",
      "parsed 2000/11858 terms\n",
      "parsed 3000/11858 terms\n",
      "parsed 4000/11858 terms\n",
      "parsed 5000/11858 terms\n",
      "parsed 6000/11858 terms\n",
      "parsed 7000/11858 terms\n",
      "parsed 8000/11858 terms\n",
      "parsed 9000/11858 terms\n",
      "parsed 10000/11858 terms\n",
      "parsed 11000/11858 terms\n",
      "Parsed 11858/11858 terms\n",
      "New vocab size: 219\n",
      "2007\n",
      "Parsing 10.0% of files. Will cap hard at 10 files.\n",
      "Parsing outer directory: 01\n",
      "parsing directory cor-por-a/2007/01/01\n",
      "Num files: parsed overall 10\n",
      "num terms in corpus: 5696\n",
      "vocab size: 1732\n",
      "matrix dimensions: 12 x 1732\n",
      "index_dict created!\n",
      "parsed 1000/5696 terms\n",
      "parsed 2000/5696 terms\n",
      "parsed 3000/5696 terms\n",
      "parsed 4000/5696 terms\n",
      "parsed 5000/5696 terms\n",
      "Parsed 5696/5696 terms\n",
      "New vocab size: 130\n"
     ]
    }
   ],
   "source": [
    "for this_file_year in all_years:\n",
    "    print this_file_year\n",
    "    mat_obj = createSeedWordMatrixNYT(num_files=10, file_year=this_file_year)\n",
    "    np.save(\"testm/\" + this_file_year + \"_seedword\", mat_obj)"
   ]
  },
  {
   "cell_type": "code",
   "execution_count": 156,
   "metadata": {
    "collapsed": true
   },
   "outputs": [],
   "source": [
    "this_file_year = \"2006\""
   ]
  },
  {
   "cell_type": "code",
   "execution_count": 157,
   "metadata": {
    "collapsed": false
   },
   "outputs": [
    {
     "name": "stdout",
     "output_type": "stream",
     "text": [
      "Parsing outer directory: 01\n",
      "parsing directory cor-por-a/2006/01/01\n",
      "Num files: parsed overall 100\n",
      "num terms in corpus: 102381\n",
      "vocab size: 14051\n",
      "matrix dimensions: 10 x 14051\n",
      "index_dict created!\n",
      "parsed 1000/102381 terms\n",
      "parsed 2000/102381 terms\n",
      "parsed 3000/102381 terms\n",
      "parsed 4000/102381 terms\n",
      "parsed 5000/102381 terms\n",
      "parsed 6000/102381 terms\n",
      "parsed 7000/102381 terms\n",
      "parsed 8000/102381 terms\n",
      "parsed 9000/102381 terms\n",
      "parsed 10000/102381 terms\n",
      "parsed 11000/102381 terms\n",
      "parsed 12000/102381 terms\n",
      "parsed 13000/102381 terms\n",
      "parsed 14000/102381 terms\n",
      "parsed 15000/102381 terms\n",
      "parsed 16000/102381 terms\n",
      "parsed 17000/102381 terms\n",
      "parsed 18000/102381 terms\n",
      "parsed 19000/102381 terms\n",
      "parsed 20000/102381 terms\n",
      "parsed 21000/102381 terms\n",
      "parsed 22000/102381 terms\n",
      "parsed 23000/102381 terms\n",
      "parsed 24000/102381 terms\n",
      "parsed 25000/102381 terms\n",
      "parsed 26000/102381 terms\n",
      "parsed 27000/102381 terms\n",
      "parsed 28000/102381 terms\n",
      "parsed 29000/102381 terms\n",
      "parsed 30000/102381 terms\n",
      "parsed 31000/102381 terms\n",
      "parsed 32000/102381 terms\n",
      "parsed 33000/102381 terms\n",
      "parsed 34000/102381 terms\n",
      "parsed 35000/102381 terms\n",
      "parsed 36000/102381 terms\n",
      "parsed 37000/102381 terms\n",
      "parsed 38000/102381 terms\n",
      "parsed 39000/102381 terms\n",
      "parsed 40000/102381 terms\n",
      "parsed 41000/102381 terms\n",
      "parsed 42000/102381 terms\n",
      "parsed 43000/102381 terms\n",
      "parsed 44000/102381 terms\n",
      "parsed 45000/102381 terms\n",
      "parsed 46000/102381 terms\n",
      "parsed 47000/102381 terms\n",
      "parsed 48000/102381 terms\n",
      "parsed 49000/102381 terms\n",
      "parsed 50000/102381 terms\n",
      "parsed 51000/102381 terms\n",
      "parsed 52000/102381 terms\n",
      "parsed 53000/102381 terms\n",
      "parsed 54000/102381 terms\n",
      "parsed 55000/102381 terms\n",
      "parsed 56000/102381 terms\n",
      "parsed 57000/102381 terms\n",
      "parsed 58000/102381 terms\n",
      "parsed 59000/102381 terms\n",
      "parsed 60000/102381 terms\n",
      "parsed 61000/102381 terms\n",
      "parsed 62000/102381 terms\n",
      "parsed 63000/102381 terms\n",
      "parsed 64000/102381 terms\n",
      "parsed 65000/102381 terms\n",
      "parsed 66000/102381 terms\n",
      "parsed 67000/102381 terms\n",
      "parsed 68000/102381 terms\n",
      "parsed 69000/102381 terms\n",
      "parsed 70000/102381 terms\n",
      "parsed 71000/102381 terms\n",
      "parsed 72000/102381 terms\n",
      "parsed 73000/102381 terms\n",
      "parsed 74000/102381 terms\n",
      "parsed 75000/102381 terms\n",
      "parsed 76000/102381 terms\n",
      "parsed 77000/102381 terms\n",
      "parsed 78000/102381 terms\n",
      "parsed 79000/102381 terms\n",
      "parsed 80000/102381 terms\n",
      "parsed 81000/102381 terms\n",
      "parsed 82000/102381 terms\n",
      "parsed 83000/102381 terms\n",
      "parsed 84000/102381 terms\n",
      "parsed 85000/102381 terms\n",
      "parsed 86000/102381 terms\n",
      "parsed 87000/102381 terms\n",
      "parsed 88000/102381 terms\n",
      "parsed 89000/102381 terms\n",
      "parsed 90000/102381 terms\n",
      "parsed 91000/102381 terms\n",
      "parsed 92000/102381 terms\n",
      "parsed 93000/102381 terms\n",
      "parsed 94000/102381 terms\n",
      "parsed 95000/102381 terms\n",
      "parsed 96000/102381 terms\n",
      "parsed 97000/102381 terms\n",
      "parsed 98000/102381 terms\n",
      "parsed 99000/102381 terms\n",
      "parsed 100000/102381 terms\n",
      "parsed 101000/102381 terms\n",
      "parsed 102000/102381 terms\n",
      "Parsed 102381/102381 terms\n",
      "New vocab size: 1932\n"
     ]
    }
   ],
   "source": [
    "mat_obj = createSeedWordMatrixNYT(num_files=100, file_year=this_file_year)"
   ]
  },
  {
   "cell_type": "code",
   "execution_count": 161,
   "metadata": {
    "collapsed": true
   },
   "outputs": [],
   "source": [
    "np.save(this_file_year + \"_seedword\", mat_obj)"
   ]
  },
  {
   "cell_type": "markdown",
   "metadata": {},
   "source": [
    "# Creating Correlation Lists\n",
    "Using the functions above, creates seed-word matrix with a user-specified number of files, performs pmi on that matrix, and computes a resulting correlation list for each seed word.\n",
    "\n",
    "In order to use more files, update the num_files variable. In order to update the seed set, update the seed_set2 global variable to include more words.\n",
    "\n",
    "Note: Creating these correlation lists at scale is very slow. Start off by processing about 10 files, and scale up. "
   ]
  },
  {
   "cell_type": "code",
   "execution_count": 78,
   "metadata": {
    "collapsed": true
   },
   "outputs": [],
   "source": [
    "rehydrate_file_year = \"2006\";"
   ]
  },
  {
   "cell_type": "code",
   "execution_count": 79,
   "metadata": {
    "collapsed": false
   },
   "outputs": [],
   "source": [
    "mat_rehydrate = np.load('matrices/' + rehydrate_file_year + \"_seedword.npy\");"
   ]
  },
  {
   "cell_type": "code",
   "execution_count": 80,
   "metadata": {
    "collapsed": false
   },
   "outputs": [],
   "source": [
    "mat_rehydrate_ppmi = pmi_seed(mat_rehydrate);"
   ]
  },
  {
   "cell_type": "code",
   "execution_count": 81,
   "metadata": {
    "collapsed": false
   },
   "outputs": [
    {
     "name": "stdout",
     "output_type": "stream",
     "text": [
      "Correlation list for word: asian-american; [(u'asian-american', 12.153338576082547), (u'cowed', 8.5424206634383228), (u'walk-on', 8.4644591219686109), (u'whiz', 7.7966297493929559), (u'receptionist', 7.7344979682859494), (u'spotlights', 7.6100437938125438), (u'assisting', 7.0719342110980845), (u'35-year-old', 7.0058440992690949), (u'29th', 6.6520803655378211), (u'actresses', 6.5402104696944772), (u'classmates', 6.2425419320420206), (u'turnout', 6.041871236579869), (u'best-known', 5.9169689858788432), (u'affecting', 5.8397905298054527), (u'studies', 5.737014873759767), (u'69', 5.2366235557289391), (u'themes', 5.1686222559642827), (u'supports', 5.1006175268502254), (u'population', 5.0653472467974776), (u'advisory', 5.0632617403064559)]\n",
      "Correlation list for word: african-american; [(u'african-american', 9.6691920935679452), (u'jive-talking', 7.8774326243398898), (u'complainants', 7.4719675162317252), (u'manservant', 7.4719675162317252), (u'foodways', 7.3666070005738993), (u'predominately', 7.2712968207695745), (u'stolidity', 7.2712968207695745), (u'lower-class', 7.1842854437799444), (u'six-foot-tall', 7.1842854437799444), (u'light-skinned', 7.1434634492596896), (u'ex-cop', 7.104242736106408), (u'well-built', 7.104242736106408), (u'muralist', 7.0301347639526863), (u'a13new', 6.7788203356717798), (u'consign', 6.7788203356717798), (u'dyspeptic', 6.7788203356717798), (u'long-track', 6.7788203356717798), (u'gun-toting', 6.6734598200139539), (u'unmotivated', 6.6734598200139539), (u'periodical', 6.5781496402096291)]\n",
      "Correlation list for word: black; [(u'black', 7.2520098036915135), (u'cohosh', 7.251740479693118), (u'mambazo', 7.251740479693118), (u'donnellys', 7.1716977720195816), (u'potatoe', 7.1339574440367342), (u'ladysmith', 7.0694189228991631), (u'pepper1', 6.9562762667992821), (u'pepperfor', 6.9415855513892781), (u'dahlia', 6.8462753715849534), (u'marketeers', 6.7817368504473823), (u'currant', 6.6763763347895555), (u'pepper2', 6.6763763347895555), (u'cofer', 6.6456046761228018), (u'abayas', 6.5585932991331726), (u'miso-glazed', 6.5585932991331726), (u'renova', 6.5585932991331726), (u'hebrews', 6.5045260778628968), (u'hollies', 6.4785505914596362), (u'empire-style', 6.4408102634767888), (u'pegboard', 6.4408102634767888)]\n",
      "Correlation list for word: african; [(u'african', 8.949036519659666), (u'tarantella', 8.2558893390997206), (u'fractals', 7.850424230991556), (u'200-member', 7.4449591228833913), (u'diaspora', 7.3834012298839582), (u'000-strong', 7.3395986072255655), (u'goatskins', 7.3395986072255655), (u'proverb', 7.2144354642715589), (u'baobab', 7.1572770504316106), (u'kwaito', 7.1572770504316106), (u'rands', 7.1572770504316106), (u'veld', 7.1572770504316106), (u'violets', 7.1244872276086202), (u'juba', 7.0031263706043525), (u'stonechats', 7.0031263706043525), (u'underequipped', 7.0031263706043525), (u'folktale', 6.8695949779798298), (u'polyrhythms', 6.8695949779798298), (u'sarong', 6.8695949779798298), (u'swallowtail', 6.8695949779798298)]\n",
      "Correlation list for word: asian; [(u'asian', 9.1571504793800429), (u'weavings', 8.403378677003662), (u'becks', 7.3653910101519875), (u'mignonette', 7.3653910101519875), (u'bureaucratese', 7.2112403303247294), (u'character-based', 7.0777089377002067), (u'gigantism', 7.0777089377002067), (u'lacquerwares', 7.0777089377002067), (u'moonstone', 7.0777089377002067), (u'bling-bling', 6.9599259020438238), (u'flyway', 6.9599259020438238), (u'marinades', 6.9599259020438238), (u'salade', 6.9599259020438238), (u'siddhas', 6.9599259020438238), (u'dub', 6.944177545075684), (u'diasporas', 6.854565386385997), (u'bonne', 6.7592552065816722), (u'bergamot', 6.672243829592043), (u'ghazal', 6.672243829592043), (u'mandalas', 6.672243829592043)]\n",
      "Correlation list for word: jewish; [(u'hat-maker', 8.3939071827716276), (u'heritagea', 8.3939071827716276), (u'jewish', 8.3939071827716276), (u'kingsbrook', 8.2115856259776727), (u'gurwin', 7.9585891115137821), (u'telegraphic', 7.2152521864299812), (u'chabad', 6.9123026418474121), (u'philanthropies', 6.7844692703375271), (u'physiognomy', 6.6021477135435722), (u'rales', 6.6021477135435722), (u'theological', 6.5686997794760318), (u'liturgical', 6.5221050058700358), (u'ultra-orthodox', 6.5221050058700358), (u'friedberg', 6.5068375337392474), (u'balladeers', 6.4479970337163142), (u'schoolmaster', 6.4479970337163142), (u'second-century', 6.4479970337163142), (u'subservience', 6.4479970337163142), (u'congresses', 6.3790041622293625), (u'braille', 6.3657589354793416)]\n",
      "Correlation list for word: latino; [(u'latino', 10.329181556273465), (u'olmos', 8.026596463279418), (u'rincon', 8.026596463279418), (u'mercado', 7.9683275551554429), (u'nuevo', 7.87244578345216), (u'idolizing', 7.844274906485464), (u'pentecostals', 7.844274906485464), (u'ballplayers', 7.6901242266582059), (u'goths', 7.6901242266582059), (u'chicano', 7.6211313551712543), (u'footholds', 7.5565928340336832), (u'squatters', 7.090503104109084), (u'wu-tang', 6.8951943517883185), (u'dark-skinned', 6.8634456534737378), (u'entertainers', 6.7364459627124305), (u'exemplar', 6.6156094895691568), (u'shopkeepers', 6.5915119379900959), (u'nouvelle', 6.5005401597843697), (u'superstar', 6.4432092280452604), (u'cuisines', 6.2687385457270448)]\n",
      "Correlation list for word: mexican; [(u'mexican', 9.2966238411898594), (u'muralist', 8.4493259808026551), (u'multibillionaire', 7.9103294800699686), (u'braceros', 7.504864371961804), (u'red-leafed', 7.504864371961804), (u'spanish-born', 7.504864371961804), (u'well-spiced', 7.504864371961804), (u'wolfish', 7.504864371961804), (u'peso', 7.4095541921574792), (u'corridos', 7.350713692134546), (u'cumbia', 7.350713692134546), (u'maquiladoras', 7.350713692134546), (u'chipotle', 7.0559141519139006), (u'viticulture', 7.0453320425833637), (u'co-religionists', 6.9940387481958135), (u'busboys', 6.8987285683914887), (u'late-18th-century', 6.8987285683914887), (u'megahit', 6.8987285683914887), (u'electro-pop', 6.8117171914018586), (u'torta', 6.8117171914018586)]\n",
      "Correlation list for word: russian; [(u'russian', 8.3822210237316384), (u'boars', 7.8226052357962166), (u'fantastik', 7.8226052357962166), (u'biathlete', 7.4013917707199131), (u'cosmonaut', 7.2836087350635292), (u'cyrillic', 7.2836087350635292), (u'mig', 7.2836087350635292), (u'oligarch', 7.247241090892655), (u'roulette', 7.2007210752577615), (u'325-pound', 7.1294580552362712), (u'\\xe9migr\\xe9', 7.0116750195798883), (u'constructivist', 6.9712340500213772), (u'dinara', 6.8781436269553655), (u'soyuz', 6.7727831112975387), (u'constructivism', 6.7239929471281066), (u'chanson', 6.6876253029572323), (u'oligarchs', 6.6057290266343731), (u'16th-', 6.5904615545035838), (u'american-educated', 6.5904615545035838), (u'millenarian', 6.5904615545035838)]\n",
      "Correlation list for word: american; [(u'american', 6.1300823509605253), (u'dreamz', 6.0856305883896917), (u'depositary', 6.0347721711562006), (u'fat-bellied', 6.0247218353026994), (u'stevedoring', 5.8424002785087445), (u'sephardi', 5.7734074070217929), (u'feel-bad', 5.5547182060569638), (u'cinematheque', 5.5239465473902101), (u'idol', 5.4995186567023477), (u'depository', 5.4531956912723603), (u'airpower', 5.4369351704005799), (u'oystercatcher', 5.4369351704005799), (u'songbook', 5.3679422989136283), (u'millionth', 5.365983434428296), (u'samoa', 5.319152134744197), (u'exceptionalism', 5.3034037777760572), (u'gigolo', 5.2827844905733219), (u'numismatic', 5.2546136136066259), (u'hairstylists', 5.2137916190863702), (u'geophysical', 5.1918127123675957)]\n",
      "Frequency list: [(u'', 9424738), (u'the', 3091239), (u'a', 1425401), (u'of', 1412749), (u'and', 1333653), (u'to', 1288816), (u'in', 1093096), (u'that', 620139), (u's', 569887), (u'for', 492810), (u'is', 464321), (u'on', 405152), (u'he', 399855), (u'it', 395759), (u'said', 373893), (u'with', 366290), (u'was', 358150), (u'at', 330491), (u'as', 299200), (u'mr', 284701)]\n"
     ]
    }
   ],
   "source": [
    "correlation_list = getCorrelationLists(mat_rehydrate_ppmi, rem_stopwords=0);"
   ]
  },
  {
   "cell_type": "code",
   "execution_count": 138,
   "metadata": {
    "collapsed": false
   },
   "outputs": [
    {
     "name": "stdout",
     "output_type": "stream",
     "text": [
      "Correlation list for word: asian-american; [(u'asian-american', 110), (u'', 17), (u'first', 11), (u'studies', 8), (u'art', 6), (u'percent', 5), (u'one', 4), (u'population', 4), (u'voters', 4), (u'women', 4), (u'four', 3), (u'woman', 3), (u'baby', 2), (u'children', 2), (u'community', 2), (u'experience', 2), (u'films', 2), (u'high', 2), (u'men', 2), (u'network', 2)]\n",
      "Correlation list for word: african-american; [(u'african-american', 1320), (u'', 212), (u'first', 80), (u'women', 38), (u'artists', 36), (u'woman', 36), (u'community', 35), (u'history', 28), (u'studies', 28), (u'experience', 21), (u'men', 19), (u'percent', 18), (u'young', 18), (u'students', 14), (u'culture', 12), (u'family', 12), (u'life', 12), (u'three', 12), (u'two', 11), (u'children', 10)]\n",
      "Correlation list for word: black; [(u'black', 14854), (u'', 3048), (u'man', 234), (u'men', 223), (u'first', 219), (u'pepper', 206), (u'ground', 198), (u'women', 174), (u'woman', 165), (u'people', 148), (u'young', 127), (u'voters', 120), (u'sea', 108), (u'leather', 102), (u'market', 100), (u'jack', 92), (u'hole', 91), (u'--', 84), (u'students', 83), (u'hair', 80)]\n",
      "Correlation list for word: african; [(u'african', 2721), (u'south', 355), (u'union', 339), (u'', 217), (u'west', 117), (u'countries', 92), (u'north', 81), (u'nations', 63), (u'national', 62), (u'central', 61), (u'art', 57), (u'republic', 52), (u'american', 49), (u'nation', 42), (u'leaders', 34), (u'dance', 33), (u'contemporary', 32), (u'black', 31), (u'country', 28), (u'diaspora', 28)]\n",
      "Correlation list for word: asian; [(u'asian', 2206), (u'', 282), (u'south', 108), (u'central', 92), (u'art', 83), (u'countries', 83), (u'east', 66), (u'southeast', 64), (u'nations', 42), (u'american', 34), (u'immigrants', 34), (u'markets', 33), (u'students', 28), (u'women', 28), (u'development', 25), (u'shore', 25), (u'studies', 24), (u'population', 23), (u'percent', 22), (u'tsunami', 22)]\n",
      "Correlation list for word: jewish; [(u'jewish', 4724), (u'', 505), (u'community', 495), (u'museum', 142), (u'american', 132), (u'center', 132), (u'plaza', 122), (u'people', 96), (u'family', 82), (u'orthodox', 70), (u'law', 68), (u'life', 66), (u'leaders', 63), (u'state', 62), (u'heritage', 59), (u'population', 52), (u'theological', 49), (u'women', 49), (u'mother', 48), (u'history', 47)]\n",
      "Correlation list for word: latino; [(u'latino', 683), (u'', 98), (u'immigrants', 27), (u'population', 24), (u'community', 17), (u'first', 14), (u'mostly', 13), (u'men', 12), (u'neighborhood', 12), (u'voters', 12), (u'residents', 11), (u'cultural', 10), (u'culture', 10), (u'market', 10), (u'chase', 8), (u'families', 8), (u'leaders', 8), (u'many', 8), (u'students', 8), (u'workers', 8)]\n",
      "Correlation list for word: mexican; [(u'mexican', 1920), (u'', 176), (u'border', 127), (u'immigrants', 71), (u'restaurant', 40), (u'government', 35), (u'food', 34), (u'workers', 27), (u'immigrant', 26), (u'new', 24), (u'authorities', 22), (u'state', 19), (u'illegal', 17), (u'flags', 15), (u'restaurants', 15), (u'director', 14), (u'grill', 14), (u'immigration', 14), (u'regional', 14), (u'american', 13)]\n",
      "Correlation list for word: russian; [(u'russian', 4787), (u'', 522), (u'government', 150), (u'officials', 100), (u'newspapers', 77), (u'gas', 58), (u'authorities', 57), (u'former', 53), (u'companies', 51), (u'military', 51), (u'oil', 48), (u'foreign', 47), (u'river', 47), (u'national', 45), (u'proposal', 45), (u'state', 45), (u'company', 44), (u'energy', 40), (u'news', 39), (u'orthodox', 32)]\n",
      "Correlation list for word: american; [(u'american', 45429), (u'', 4526), (u'military', 1528), (u'officials', 1140), (u'troops', 1085), (u'north', 759), (u'league', 662), (u'people', 645), (u'forces', 597), (u'soldiers', 591), (u'art', 534), (u'idol', 511), (u'history', 409), (u'airlines', 395), (u'latin', 374), (u'indian', 323), (u'ambassador', 319), (u'ballet', 300), (u'companies', 297), (u'service', 297)]\n",
      "Frequency list: [(u'', 9424738), (u'the', 3091239), (u'a', 1425401), (u'of', 1412749), (u'and', 1333653), (u'to', 1288816), (u'in', 1093096), (u'that', 620139), (u's', 569887), (u'for', 492810), (u'is', 464321), (u'on', 405152), (u'he', 399855), (u'it', 395759), (u'said', 373893), (u'with', 366290), (u'was', 358150), (u'at', 330491), (u'as', 299200), (u'mr', 284701)]\n"
     ]
    }
   ],
   "source": [
    "correlation_list_raw = getCorrelationLists(mat_rehydrate, rem_stopwords=1);"
   ]
  },
  {
   "cell_type": "markdown",
   "metadata": {},
   "source": [
    "# Word Document Matrix\n",
    "Creates a word document matrix for use by Theo and her LDA work!"
   ]
  },
  {
   "cell_type": "code",
   "execution_count": 90,
   "metadata": {
    "collapsed": false
   },
   "outputs": [],
   "source": [
    "from nltk.corpus import stopwords\n",
    "\n",
    "def createWordDocumentMatrixNYT(num_files):\n",
    "    result = parse_NYT_articles_worddoc(num_files)\n",
    "    word_file_vec = [(x[0].lower(),x[1]) for x in result[0]]\n",
    "    word_vec = [x[0] for x in word_file_vec]\n",
    "    vocab_vec = np.unique(word_vec).tolist()\n",
    "    file_vec = result[1]\n",
    "    print 'num terms in corpus: ' + str(len(word_vec))\n",
    "    print 'vocab size: ' + str(len(vocab_vec))\n",
    "    print 'matrix dimensions: ' + str(len(vocab_vec)) + ' x ' + str(len(file_vec))\n",
    "    mat = [[0 for x in range(len(file_vec))] for y in range(len(vocab_vec))]\n",
    "    \n",
    "    index_dict = {};\n",
    "    for i in range (0, len(vocab_vec)):\n",
    "        index_dict[vocab_vec[i]] = i\n",
    "    print 'index_dict created!'\n",
    "    \n",
    "    file_index_dict = {};\n",
    "    for i in range (0, len(file_vec)):\n",
    "        file_index_dict[file_vec[i]] = i\n",
    "    print 'file_index_dict created!'\n",
    "    \n",
    "    i = 0;\n",
    "    for word_file_tuple in word_file_vec:\n",
    "        if (i % 1000 == 0):\n",
    "            print 'parsed ' + str(i) + '/' + str(len(word_vec)) + ' terms'\n",
    "        word = word_file_tuple[0]\n",
    "        file_name = word_file_tuple[1]\n",
    "        \n",
    "        # CHANGED\n",
    "        #index_word = vocab_vec.index(word);\n",
    "        index_word = index_dict[word]  \n",
    "        #index_file = file_vec.index(file_name);\n",
    "        index_file = file_index_dict[file_name]\n",
    "        \n",
    "        mat[index_word][index_file] +=1\n",
    "        i = i+1\n",
    "    print 'Parsed all terms'\n",
    "    keep = []\n",
    "    stop = stopwords.words('english')\n",
    "    updated_vocab_vec = []\n",
    "    for ind, word in enumerate(vocab_vec):\n",
    "        if word not in stop:\n",
    "            keep.append(ind)\n",
    "            updated_vocab_vec.append(word)\n",
    "    keep = np.array(mat)[keep]\n",
    "            \n",
    "    return (keep, updated_vocab_vec)"
   ]
  },
  {
   "cell_type": "code",
   "execution_count": 92,
   "metadata": {
    "collapsed": false
   },
   "outputs": [
    {
     "name": "stdout",
     "output_type": "stream",
     "text": [
      "parsing outer file directory 01\n",
      "parsing directory cor-por-a/2006/01/01\n",
      "Num files: 100\n",
      "num terms in corpus: 102283\n",
      "vocab size: 14050\n",
      "matrix dimensions: 14050 x 100\n",
      "index_dict created!\n",
      "file_index_dict created!\n",
      "parsed 0/102283 terms\n",
      "parsed 1000/102283 terms\n",
      "parsed 2000/102283 terms\n",
      "parsed 3000/102283 terms\n",
      "parsed 4000/102283 terms\n",
      "parsed 5000/102283 terms\n",
      "parsed 6000/102283 terms\n",
      "parsed 7000/102283 terms\n",
      "parsed 8000/102283 terms\n",
      "parsed 9000/102283 terms\n",
      "parsed 10000/102283 terms\n",
      "parsed 11000/102283 terms\n",
      "parsed 12000/102283 terms\n",
      "parsed 13000/102283 terms\n",
      "parsed 14000/102283 terms\n",
      "parsed 15000/102283 terms\n",
      "parsed 16000/102283 terms\n",
      "parsed 17000/102283 terms\n",
      "parsed 18000/102283 terms\n",
      "parsed 19000/102283 terms\n",
      "parsed 20000/102283 terms\n",
      "parsed 21000/102283 terms\n",
      "parsed 22000/102283 terms\n",
      "parsed 23000/102283 terms\n",
      "parsed 24000/102283 terms\n",
      "parsed 25000/102283 terms\n",
      "parsed 26000/102283 terms\n",
      "parsed 27000/102283 terms\n",
      "parsed 28000/102283 terms\n",
      "parsed 29000/102283 terms\n",
      "parsed 30000/102283 terms\n",
      "parsed 31000/102283 terms\n",
      "parsed 32000/102283 terms\n",
      "parsed 33000/102283 terms\n",
      "parsed 34000/102283 terms\n",
      "parsed 35000/102283 terms\n",
      "parsed 36000/102283 terms\n",
      "parsed 37000/102283 terms\n",
      "parsed 38000/102283 terms\n",
      "parsed 39000/102283 terms\n",
      "parsed 40000/102283 terms\n",
      "parsed 41000/102283 terms\n",
      "parsed 42000/102283 terms\n",
      "parsed 43000/102283 terms\n",
      "parsed 44000/102283 terms\n",
      "parsed 45000/102283 terms\n",
      "parsed 46000/102283 terms\n",
      "parsed 47000/102283 terms\n",
      "parsed 48000/102283 terms\n",
      "parsed 49000/102283 terms\n",
      "parsed 50000/102283 terms\n",
      "parsed 51000/102283 terms\n",
      "parsed 52000/102283 terms\n",
      "parsed 53000/102283 terms\n",
      "parsed 54000/102283 terms\n",
      "parsed 55000/102283 terms\n",
      "parsed 56000/102283 terms\n",
      "parsed 57000/102283 terms\n",
      "parsed 58000/102283 terms\n",
      "parsed 59000/102283 terms\n",
      "parsed 60000/102283 terms\n",
      "parsed 61000/102283 terms\n",
      "parsed 62000/102283 terms\n",
      "parsed 63000/102283 terms\n",
      "parsed 64000/102283 terms\n",
      "parsed 65000/102283 terms\n",
      "parsed 66000/102283 terms\n",
      "parsed 67000/102283 terms\n",
      "parsed 68000/102283 terms\n",
      "parsed 69000/102283 terms\n",
      "parsed 70000/102283 terms\n",
      "parsed 71000/102283 terms\n",
      "parsed 72000/102283 terms\n",
      "parsed 73000/102283 terms\n",
      "parsed 74000/102283 terms\n",
      "parsed 75000/102283 terms\n",
      "parsed 76000/102283 terms\n",
      "parsed 77000/102283 terms\n",
      "parsed 78000/102283 terms\n",
      "parsed 79000/102283 terms\n",
      "parsed 80000/102283 terms\n",
      "parsed 81000/102283 terms\n",
      "parsed 82000/102283 terms\n",
      "parsed 83000/102283 terms\n",
      "parsed 84000/102283 terms\n",
      "parsed 85000/102283 terms\n",
      "parsed 86000/102283 terms\n",
      "parsed 87000/102283 terms\n",
      "parsed 88000/102283 terms\n",
      "parsed 89000/102283 terms\n",
      "parsed 90000/102283 terms\n",
      "parsed 91000/102283 terms\n",
      "parsed 92000/102283 terms\n",
      "parsed 93000/102283 terms\n",
      "parsed 94000/102283 terms\n",
      "parsed 95000/102283 terms\n",
      "parsed 96000/102283 terms\n",
      "parsed 97000/102283 terms\n",
      "parsed 98000/102283 terms\n",
      "parsed 99000/102283 terms\n",
      "parsed 100000/102283 terms\n",
      "parsed 101000/102283 terms\n",
      "parsed 102000/102283 terms\n",
      "Parsed all terms\n"
     ]
    }
   ],
   "source": [
    "(mat, lda_vocab) = createWordDocumentMatrixNYT(num_files=100)"
   ]
  },
  {
   "cell_type": "markdown",
   "metadata": {
    "collapsed": true
   },
   "source": [
    "# Sentiment Analysis\n",
    "Takes in a list V of words and returns the average sentiment score across all terms in V as determined by freebase. Note to Jason: consider other sentiment databases"
   ]
  },
  {
   "cell_type": "code",
   "execution_count": 34,
   "metadata": {
    "collapsed": false
   },
   "outputs": [
    {
     "ename": "NameError",
     "evalue": "name 'correlated_words' is not defined",
     "output_type": "error",
     "traceback": [
      "\u001b[0;31m---------------------------------------------------------------------------\u001b[0m",
      "\u001b[0;31mNameError\u001b[0m                                 Traceback (most recent call last)",
      "\u001b[0;32m<ipython-input-34-7b768ec0c092>\u001b[0m in \u001b[0;36m<module>\u001b[0;34m()\u001b[0m\n\u001b[1;32m     45\u001b[0m \u001b[0;34m\u001b[0m\u001b[0m\n\u001b[1;32m     46\u001b[0m \u001b[0;31m#print generate_sentiment_2(neighbors_list)\u001b[0m\u001b[0;34m\u001b[0m\u001b[0;34m\u001b[0m\u001b[0m\n\u001b[0;32m---> 47\u001b[0;31m \u001b[0;32mprint\u001b[0m \u001b[0mgenerate_sentiment_2\u001b[0m\u001b[0;34m(\u001b[0m\u001b[0mcorrelated_words\u001b[0m\u001b[0;34m)\u001b[0m\u001b[0;34m\u001b[0m\u001b[0m\n\u001b[0m",
      "\u001b[0;31mNameError\u001b[0m: name 'correlated_words' is not defined"
     ]
    }
   ],
   "source": [
    "from nltk.corpus import sentiwordnet as swn\n",
    "from __future__ import unicode_literals\n",
    "\n",
    "def getSentiment(word):\n",
    "    synset = list(swn.senti_synsets(word))\n",
    "    if len(synset) > 0: #if a synset exists for this word\n",
    "        synset = synset[0]\n",
    "        return(synset.pos_score(), synset.neg_score(), synset.obj_score())\n",
    "\n",
    "def is_ascii(s):\n",
    "    return all(ord(c) < 128 for c in s)\n",
    "\n",
    "V = ['good', 'bad', 'great', 'awesome', 'amazing', 'holy', 'beautiful', 'worrisome', 'stupid']\n",
    "def generate_sentiment(wordList):\n",
    "    totalSentiment = 0.0;\n",
    "    for word in wordList:\n",
    "        if is_ascii(word): #see note below for rationale\n",
    "            sentiment = getSentiment(word)\n",
    "            if sentiment == None:\n",
    "                sentiment = 0.0\n",
    "            if type(sentiment) is float: #why does this happen\n",
    "                print \"n/a\"\n",
    "            else:  \n",
    "                totalSentiment += (sentiment[0] - sentiment[1]) \n",
    "                print (sentiment[0] - sentiment[1])\n",
    "        #sentiwordnet generates tuples of pos, neg, and neu. currently naively choosing to consider only sum of pos and neg. \n",
    "    averageSentiment = totalSentiment/len(wordList)\n",
    "    return averageSentiment\n",
    "\n",
    "def generate_sentiment_2(wordTupleList):\n",
    "    reader = csv.reader(open('sentiment_words.txt', 'rb'))\n",
    "    sentiment_words = dict(reader)\n",
    "    sentiment_score = 0\n",
    "    for wordTuple in wordTupleList:\n",
    "        word = wordTuple[0]\n",
    "        score = 1/wordTuple[1] #inverse of distance\n",
    "        if word in sentiment_words:\n",
    "            if sentiment_words[word] == 'pos':\n",
    "                print word + \" +\" + str(score)\n",
    "                sentiment_score += score\n",
    "            if sentiment_words[word] == 'neg':\n",
    "                print word + \" -\" + str(score)\n",
    "                sentiment_score -= score\n",
    "    return sentiment_score\n",
    "\n",
    "#print generate_sentiment_2(neighbors_list)\n",
    "print generate_sentiment_2(correlated_words)"
   ]
  },
  {
   "cell_type": "markdown",
   "metadata": {},
   "source": [
    "### gensim example ###"
   ]
  },
  {
   "cell_type": "code",
   "execution_count": null,
   "metadata": {
    "collapsed": false
   },
   "outputs": [
    {
     "ename": "KeyboardInterrupt",
     "evalue": "",
     "output_type": "error",
     "traceback": [
      "Traceback (most recent call last):\n",
      "  File \"/Users/Cheson/anaconda2/lib/python2.7/site-packages/ipykernel/ipkernel.py\", line 199, in do_execute\n    shell.run_cell(code, store_history=store_history, silent=silent)\n",
      "  File \"/Users/Cheson/anaconda2/lib/python2.7/site-packages/IPython/core/interactiveshell.py\", line 2653, in run_cell\n    cell = self.input_transformer_manager.transform_cell(raw_cell)\n",
      "  File \"/Users/Cheson/anaconda2/lib/python2.7/site-packages/IPython/core/inputsplitter.py\", line 597, in transform_cell\n    self.push(cell)\n",
      "  File \"/Users/Cheson/anaconda2/lib/python2.7/site-packages/IPython/core/inputsplitter.py\", line 641, in push\n    out = self.push_line(line)\n",
      "  File \"/Users/Cheson/anaconda2/lib/python2.7/site-packages/IPython/core/inputsplitter.py\", line 668, in push_line\n    line = self.assemble_python_lines.push(line)\n",
      "  File \"/Users/Cheson/anaconda2/lib/python2.7/site-packages/IPython/core/inputtransformer.py\", line 151, in push\n    for intok in self.tokenizer:\n",
      "  File \"/Users/Cheson/anaconda2/lib/python2.7/site-packages/IPython/utils/_tokenize_py2.py\", line 296, in generate_tokens\n    namechars, numchars = string.ascii_letters + '_', '0123456789'\n",
      "KeyboardInterrupt\n"
     ]
    }
   ],
   "source": [
    "def parser_wrapper(year):\n",
    "    import time\n",
    "    num_files = 1000000000 #all files\n",
    "    root_directory = 'cor-por-a/'+ str(year) + '/'\n",
    "    \n",
    "    start = time.clock()\n",
    "    word2vec = parse_NYT_articles_word2vec(num_files, root_directory)\n",
    "    np.save('parses/' + str(year) + '_' + 'word2vec_parse', word2vec)\n",
    "    end = time.clock()\n",
    "    print \"word2vec parse time: \" + str(end-start)\n",
    "    \n",
    "    start = time.clock()\n",
    "    seedword = parse_NYT_articles_seedword(num_files, root_directory)\n",
    "    np.save('parses/' + str(yea\n",
    "    end = time.clock()\n",
    "    print \"seedword parse time: \" + str(end-start)\n",
    "    \n",
    "    start = time.clock()\n",
    "    worddoc = parse_NYT_articles_worddoc(num_files, root_directory)\n",
    "    np.save('parses/' + str(year) + '_' + 'worddoc_parse', worddoc)\n",
    "    end = time.clock()\n",
    "    print \"worddoc parse time: \" + str(end-start)\n",
    "    \n",
    "    #long-term goal: this is dumb. we should probably rewrite the functions to create all three types of parses at the same time\n",
    "    \n",
    "    return (word2vec, seedword, worddoc)\n",
    "\n",
    "def process_year(year):\n",
    "    parses = parser_wrapper(year) #[0]=word2vec, [1]=seedword, [2]=worddoc\n",
    "    #make matrices\n",
    "    #get correlation lists\n",
    "    #make word2vec VSM\n",
    "    #get sentiment of correlation list\n",
    "    #get lda topics \n",
    "    #print out and save / year\n",
    "    #graph across years\n",
    "parser_wrapper(2006)"
   ]
  },
  {
   "cell_type": "code",
   "execution_count": 110,
   "metadata": {
    "collapsed": false
   },
   "outputs": [],
   "source": [
    "import nltk.data\n",
    "\n",
    "def parse_NYT_articles_word2vec(num_files, root_directory='cor-por-a/2006/'):\n",
    "    sent_detector = nltk.data.load('tokenizers/punkt/english.pickle') #pretrained probabilistic model for parsing sentences\n",
    "    \n",
    "    sentenceList = [];\n",
    "    i = 0;\n",
    "    numSentences = 0;\n",
    "    for dirname_1 in os.listdir(root_directory):\n",
    "        if (dirname_1 == '.DS_Store'):\n",
    "            continue;\n",
    "        print \"parsing outer file directory \" + dirname_1;\n",
    "        for dirname in os.listdir(root_directory + dirname_1 + '/'):\n",
    "            if (dirname == '.DS_Store'):\n",
    "                continue;\n",
    "            print \"parsing directory \" + root_directory + dirname_1 + '/' + dirname;\n",
    "            for filename in os.listdir(root_directory + dirname_1 + '/' + dirname + '/'):                \n",
    "                if (i >= num_files):\n",
    "                    print 'Num files: ' + str(i);\n",
    "                    print \"num sentences: \" + str(numSentences)\n",
    "                    return sentenceList\n",
    "                if (filename == '.DS_Store'):\n",
    "                    continue;\n",
    "                article_file = root_directory + dirname_1 + '/' + dirname + '/' + filename;\n",
    "                #print article_file\n",
    "                article_rep = parse_NYT_article(article_file);\n",
    "                if (article_rep):\n",
    "                    article = article_rep[1];\n",
    "                    for sentence in sent_detector.tokenize(article.strip()):\n",
    "                        tokenized_sentence = []\n",
    "                        sentence = remove_punctuation(sentence.lower())\n",
    "                        for word in sentence.split():\n",
    "                            tokenized_sentence.append(word)\n",
    "                        sentenceList.append(tokenized_sentence)\n",
    "                        numSentences += 1\n",
    "                i = i+1;\n",
    "    print \"num files: \" + str(i);\n",
    "    print \"num sentences: \" + str(numSentences)\n",
    "    return sentenceList;"
   ]
  },
  {
   "cell_type": "code",
   "execution_count": 82,
   "metadata": {
    "collapsed": false
   },
   "outputs": [],
   "source": [
    "from gensim.models import Word2Vec\n",
    "from nltk.corpus import brown, movie_reviews, treebank\n",
    "import time\n",
    "\n",
    "# start = time.clock()\n",
    "# parse = parse_NYT_articles_word2vec(10000000000)\n",
    "# end = time.clock()\n",
    "# print \"parse time: \" + str(end-start)\n",
    "\n",
    "# start = time.clock()\n",
    "# ours = Word2Vec(parse, min_count=5)\n",
    "# end = time.clock()\n",
    "# print \"Word2Vec model generation time: \" + str(end-start)"
   ]
  },
  {
   "cell_type": "code",
   "execution_count": 172,
   "metadata": {
    "collapsed": false
   },
   "outputs": [],
   "source": [
    "#train gensim to generate a vector representation of all words in vocabulary\n",
    "#create new matrix by getting ours['vocab_word'] for all vocab words\n",
    "#pass that new matrix into the semantic orientation model to get sentiment scores."
   ]
  },
  {
   "cell_type": "code",
   "execution_count": 142,
   "metadata": {
    "collapsed": false
   },
   "outputs": [],
   "source": [
    "#ours.save(\"2006_word2vec_model\")\n"
   ]
  },
  {
   "cell_type": "code",
   "execution_count": 84,
   "metadata": {
    "collapsed": false
   },
   "outputs": [],
   "source": [
    "word2vec_model = Word2Vec.load(\"matrices/2006_word2vec_model\")"
   ]
  },
  {
   "cell_type": "code",
   "execution_count": 85,
   "metadata": {
    "collapsed": false
   },
   "outputs": [
    {
     "name": "stdout",
     "output_type": "stream",
     "text": [
      "[('bronze', 0.7129561901092529), (u'silver', 0.7019717693328857), ('pendants', 0.6369662880897522), ('necklaces', 0.6366876363754272), (u'platinum', 0.627060055732727)]\n"
     ]
    }
   ],
   "source": [
    "print(word2vec_model.most_similar('gold', topn=5))"
   ]
  },
  {
   "cell_type": "code",
   "execution_count": 86,
   "metadata": {
    "collapsed": false
   },
   "outputs": [],
   "source": [
    "def create_word2vec_mat(word2vec_model, mat_ppmi_obj):\n",
    "    #mat_obj_ppmi -> mat_ppmi, rownames, frequencies\n",
    "    #get vocabulary list\n",
    "    vocab_list = mat_ppmi_obj[1]\n",
    "    #create new vocab list\n",
    "    new_vocab_list = []\n",
    "    #create new mat\n",
    "    new_vsm = []\n",
    "    #for each word in vocab list\n",
    "    for word in vocab_list:\n",
    "    #get its raw vector and append to new mat, append word to new vocab list\n",
    "        try:\n",
    "            new_vocab_list.append(word)\n",
    "            new_vsm.append(word2vec_model[word])\n",
    "        except KeyError, e:\n",
    "            continue\n",
    "    return (new_vsm, new_vocab_list)"
   ]
  },
  {
   "cell_type": "code",
   "execution_count": 87,
   "metadata": {
    "collapsed": true
   },
   "outputs": [],
   "source": [
    "def cosine(u, v):        \n",
    "    \"\"\"Cosine distance between 1d np.arrays `u` and `v`, which must have \n",
    "    the same dimensionality. Returns a float.\"\"\"\n",
    "    # Use scipy's method:\n",
    "    return scipy.spatial.distance.cosine(u, v)\n",
    "    # Or define it yourself:\n",
    "    # return 1.0 - (np.dot(u, v) / (vector_length(u) * vector_length(v)))"
   ]
  },
  {
   "cell_type": "code",
   "execution_count": 88,
   "metadata": {
    "collapsed": true
   },
   "outputs": [],
   "source": [
    "def semantic_orientation(\n",
    "        mat, \n",
    "        rownames,\n",
    "        seeds1=('bad', 'nasty', 'poor', 'negative', 'unfortunate', 'wrong', 'inferior'),\n",
    "        seeds2=('good', 'nice', 'excellent', 'positive', 'fortunate', 'correct', 'superior'),\n",
    "        distfunc=cosine):    \n",
    "    \"\"\"No frills implementation of the semantic Orientation (SO) method of \n",
    "    Turney and Littman. seeds1 and seeds2 should be representative members \n",
    "    of two intutively opposing semantic classes. The method will then try \n",
    "    to rank the vocabulary by its relative association with each seed set.\n",
    "        \n",
    "    Parameters\n",
    "    ----------\n",
    "    mat : 2d np.array\n",
    "        The matrix used to derive the SO ranking.\n",
    "        \n",
    "    rownames : list of str\n",
    "        The names of the rows of `mat` (the vocabulary).\n",
    "        \n",
    "    seeds1 : tuple of str\n",
    "        The default is the negative seed set of Turney and Littman.\n",
    "        \n",
    "    seeds2 : tuple of str\n",
    "        The default is the positive seed set of Turney and Littman.\n",
    "        \n",
    "    distfunc : function mapping vector pairs to floats (default: `cosine`)\n",
    "        The measure of distance between vectors. Can also be `euclidean`, \n",
    "        `matching`, `jaccard`, as well as any other distance measure \n",
    "        between 1d vectors. \n",
    "    \n",
    "    Returns\n",
    "    -------    \n",
    "    list of tuples\n",
    "        The vocabulary ranked according to the SO method, with words \n",
    "        closest to `seeds1` at the top and words closest to `seeds2` at the \n",
    "        bottom. Each member of the list is a (word, score) pair.\n",
    "    \n",
    "    \"\"\"    \n",
    "    sm1 = _so_seed_matrix(seeds1, mat, rownames)\n",
    "    sm2 = _so_seed_matrix(seeds2, mat, rownames)\n",
    "    scores = [(rownames[i], _so_row_func(mat[i], sm1, sm2, distfunc)) for i in xrange(len(mat))]\n",
    "    return sorted(scores, key=itemgetter(1), reverse=False)\n",
    "\n",
    "def _so_seed_matrix(seeds, mat, rownames):\n",
    "    indices = [rownames.index(word) for word in seeds if word in rownames]\n",
    "    if not indices:\n",
    "        raise ValueError('The matrix contains no members of the seed set: %s' % \",\".join(seeds))\n",
    "    #print indices\n",
    "    #print np.array(indices)\n",
    "    return mat[np.array(indices)]\n",
    "    \n",
    "def _so_row_func(row, sm1, sm2, distfunc):\n",
    "    val1 = np.sum([distfunc(row, srow) for srow in sm1])\n",
    "    val2 = np.sum([distfunc(row, srow) for srow in sm2])\n",
    "    return val1 - val2    "
   ]
  },
  {
   "cell_type": "code",
   "execution_count": 89,
   "metadata": {
    "collapsed": false
   },
   "outputs": [],
   "source": [
    "word2vec_mat = create_word2vec_mat(word2vec_model, mat_rehydrate_ppmi)"
   ]
  },
  {
   "cell_type": "code",
   "execution_count": 90,
   "metadata": {
    "collapsed": false
   },
   "outputs": [],
   "source": [
    "so = semantic_orientation(mat=np.array(word2vec_mat[0]), rownames=word2vec_mat[1])\n",
    "\n",
    "#convert from list to easily searchable hashmap\n",
    "word_scores = dict()\n",
    "for tup in so:\n",
    "    word_scores[tup[0]] = tup[1]"
   ]
  },
  {
   "cell_type": "code",
   "execution_count": 91,
   "metadata": {
    "collapsed": false
   },
   "outputs": [
    {
     "name": "stdout",
     "output_type": "stream",
     "text": [
      "bottom 5\n",
      "[(u'inferior', -1.8694573761411135), (u'ancients', -1.6513550385244073), (u'tussling', -1.5947713050262005), (u'biederman', -1.5865474415596097), (u'bi\\xe8re', -1.5822854371790678)]\n",
      "top 5\n",
      "[(u'gossypol', 1.2959164292257039), (u'stung', 1.2967596300897988), (u'surpluses', 1.3591987337890927), (u'talkative', 1.3674854875844398), (u'draft-day', 1.4666110179148397)]\n"
     ]
    }
   ],
   "source": [
    "print \"bottom 5\"\n",
    "print(so[:5])\n",
    "print \"top 5\"\n",
    "print(so[-5:])"
   ]
  },
  {
   "cell_type": "code",
   "execution_count": 156,
   "metadata": {
    "collapsed": false
   },
   "outputs": [],
   "source": [
    "def get_semantic_score(word_list):\n",
    "    score = 0\n",
    "    for word in word_list:\n",
    "        if word in word_scores:\n",
    "            score += (word_scores[word])\n",
    "        else:\n",
    "            print 'not in vocab'\n",
    "    return score"
   ]
  },
  {
   "cell_type": "code",
   "execution_count": 157,
   "metadata": {
    "collapsed": false
   },
   "outputs": [
    {
     "name": "stdout",
     "output_type": "stream",
     "text": [
      "reference semantic scores: \n",
      "positive seed set: 3.12092685277\n",
      "negative seed set: -8.00491091215\n",
      "average score (midline): -2.44199202969\n"
     ]
    }
   ],
   "source": [
    "seeds_neg = ['bad', 'nasty', 'poor', 'negative', 'unfortunate', 'wrong', 'inferior']\n",
    "seeds_pos = ['good', 'nice', 'excellent', 'positive', 'fortunate', 'correct', 'superior']\n",
    "pos_score = get_semantic_score(seeds_pos)\n",
    "neg_score = get_semantic_score(seeds_neg)\n",
    "midline = (pos_score + neg_score) / 2.0\n",
    "print \"reference semantic scores: \"\n",
    "print \"positive seed set: \" + str(pos_score)\n",
    "print \"negative seed set: \" + str(neg_score)\n",
    "print \"average score (midline): \" + str(midline)\n",
    "\n",
    "\n"
   ]
  },
  {
   "cell_type": "code",
   "execution_count": 171,
   "metadata": {
    "collapsed": false
   },
   "outputs": [
    {
     "name": "stdout",
     "output_type": "stream",
     "text": [
      "category: african-american\n",
      "words:\n",
      "african-american: -0.743690223597\n",
      ": -0.831533828512\n",
      "first: -0.686429540454\n",
      "women: -0.0857264773776\n",
      "artists: -0.628374555718\n",
      "woman: -0.413207287792\n",
      "community: -0.966005089778\n",
      "history: -0.217846123311\n",
      "studies: -0.485555302138\n",
      "experience: -0.0320994491377\n",
      "men: -0.316791278551\n",
      "-5.40725915637\n"
     ]
    }
   ],
   "source": [
    "#iterate through the first index to get all of our categories\n",
    "#for each category, add [1] to get the correlation list\n",
    "#for each word in correlation list, get them all by iterating and getting \n",
    "#print lists2[1][1][0][0]\n",
    "#print lists2[category][1][tuple][0]\n",
    "\n",
    "top_ten = []\n",
    "category = 1\n",
    "counter = 0\n",
    "print(\"category: \" + correlation_list_raw[category][0]) #raw is raw counts, not ppmi\n",
    "print(\"words:\")\n",
    "for tup in correlation_list_raw[category][1]: #the actual list part of the category\n",
    "    top_ten.append(tup[0])\n",
    "    print(tup[0] + \": \" + str(word_scores[tup[0]]))\n",
    "    counter += 1\n",
    "    if counter > 10:\n",
    "        break\n",
    "        \n",
    "# print(get_semantic_score(['stupid', 'bad', 'gold']))\n",
    "# print(get_semantic_score(['stupid', 'bad', 'worst']))\n",
    "print(get_semantic_score(top_ten))"
   ]
  },
  {
   "cell_type": "markdown",
   "metadata": {},
   "source": [
    "# XOR/AND\n",
    "Takes in a dict of corpus:list of words and returns a dict of corpus:XOR words and dict of corpus:AND words."
   ]
  },
  {
   "cell_type": "code",
   "execution_count": null,
   "metadata": {
    "collapsed": false
   },
   "outputs": [],
   "source": [
    "toyList = ['black', 'block', 'beer']\n",
    "\n",
    "def XOR(corpus1, corpus2):\n",
    "    first = set(corpus1)\n",
    "    second = set(corpus2)\n",
    "    return first ^ second\n",
    "def AND(corpus1, corpus2):\n",
    "    first = set(corpus1)\n",
    "    second = set(corpus2)\n",
    "    return first & second\n",
    "\n",
    "print 'XOR'\n",
    "print XOR(toyList, neighbors_word_list)\n",
    "print 'AND'\n",
    "print AND(toyList, neighbors_word_list)"
   ]
  },
  {
   "cell_type": "markdown",
   "metadata": {},
   "source": [
    "# Word Cloud\n",
    "Takes in a matrix M and correlation list L. Using t-sne, produces a word cloud which represents correlation between all terms. "
   ]
  },
  {
   "cell_type": "raw",
   "metadata": {},
   "source": [
    "NOTE: It is highly recommended to use another dimensionality reduction method (e.g. PCA for dense data or TruncatedSVD for sparse data) to reduce the number of dimensions to a reasonable amount (e.g. 50) if the number of features is very high. This will suppress some noise and speed up the computation of pairwise distances between samples."
   ]
  },
  {
   "cell_type": "raw",
   "metadata": {},
   "source": [
    "matrix: array, shape (n_samples, n_features) or (n_samples, n_samples)\n",
    "If the metric is ‘precomputed’ X must be a square distance matrix. Otherwise it contains a sample per row. If the method is ‘exact’, X may be a sparse matrix of type ‘csr’, ‘csc’ or ‘coo’."
   ]
  },
  {
   "cell_type": "code",
   "execution_count": null,
   "metadata": {
    "collapsed": false
   },
   "outputs": [],
   "source": [
    "from sklearn.manifold import TSNE\n",
    "import numpy\n",
    "numpy.set_printoptions(threshold='nan')\n",
    "\n",
    "def word_cloud_preprocessing(words, matrix=mat_ppmi):\n",
    "    output = []\n",
    "    for word in words:\n",
    "        ind = matrix[1].index(word)\n",
    "        output.append(matrix[0][ind])\n",
    "    return output\n",
    "processed_mat = word_cloud_preprocessing(neighbors_word_list)\n",
    "print processed_mat\n",
    "\n",
    "def word_cloud(corr_list): #i think its processed_mat / didn't tsne take in a vector of labels as well?\n",
    "    model = TSNE(n_components=2, random_state=0)\n",
    "    tsne_matrix = model.fit_transform(corr_list)\n",
    "    \n",
    "word_cloud(processed_mat)"
   ]
  },
  {
   "cell_type": "markdown",
   "metadata": {
    "collapsed": true
   },
   "source": [
    "# Latent Dirichlet Allocation"
   ]
  },
  {
   "cell_type": "markdown",
   "metadata": {},
   "source": [
    "topic modeling, currently using dummy data from lda.datasets\n",
    "\n",
    "NOTE: rerunning can cause relabeling, which means that topic 0 in the first run might now be topic 15 in the next run, so don't be worried if the topic numbers change from run to run\n",
    "\n",
    "run this on the command line first: pip install --user lda\n",
    "\n",
    "https://pypi.python.org/pypi/lda"
   ]
  },
  {
   "cell_type": "code",
   "execution_count": 28,
   "metadata": {
    "collapsed": true
   },
   "outputs": [],
   "source": [
    "# from sklearn.feature_extraction.text import CountVectorizer\n",
    "# vec = CountVectorizer(stop_words='english')\n",
    "# data = vec.fit_transform(wdmat_files)"
   ]
  },
  {
   "cell_type": "code",
   "execution_count": 29,
   "metadata": {
    "collapsed": false
   },
   "outputs": [],
   "source": [
    "# #imports\n",
    "\n",
    "# from __future__ import division, print_function\n",
    "\n",
    "# np.set_printoptions(threshold='nan')\n",
    "\n",
    "# #use pip show lda to find the path of where it's installed for you and modify the path append line below with your location\n",
    "# import sys\n",
    "# sys.path.append('/Users/theodorachu/.local/lib/python2.7/site-packages')\n",
    "\n",
    "import lda\n",
    "# import lda.datasets"
   ]
  },
  {
   "cell_type": "code",
   "execution_count": 30,
   "metadata": {
    "collapsed": false
   },
   "outputs": [
    {
     "name": "stdout",
     "output_type": "stream",
     "text": [
      "type(X): <type 'numpy.ndarray'>\n",
      "shape: (1000, 38772)\n",
      "\n",
      "type(vocab): <type 'tuple'>\n",
      "len(vocab): 38772\n",
      "\n"
     ]
    }
   ],
   "source": [
    "# document-term matrix\n",
    "X = mat.transpose()\n",
    "print(\"type(X): {}\".format(type(X)))\n",
    "print(\"shape: {}\\n\".format(X.shape))\n",
    "\n",
    "# the vocab\n",
    "vocab = tuple(lda_vocab)\n",
    "print(\"type(vocab): {}\".format(type(vocab)))\n",
    "print(\"len(vocab): {}\\n\".format(len(vocab)))\n",
    "\n",
    "# titles for each story\n",
    "# titles = lda.datasets.load_reuters_titles()\n",
    "# print(\"type(titles): {}\".format(type(titles)))\n",
    "# print(\"len(titles): {}\\n\".format(len(titles)))"
   ]
  },
  {
   "cell_type": "code",
   "execution_count": 31,
   "metadata": {
    "collapsed": false
   },
   "outputs": [
    {
     "name": "stdout",
     "output_type": "stream",
     "text": [
      "type(rel_X): <type 'numpy.ndarray'>\n",
      "shape: (120, 38772)\n",
      "\n"
     ]
    }
   ],
   "source": [
    "# input is the equivalence set\n",
    "# output is doc-term matrix of just relevant docs\n",
    "def find_word(input):\n",
    "    indices = [i for i, x in enumerate(lda_vocab) if x in input]\n",
    "    mod_mat = (X.transpose()[indices]).transpose()\n",
    "    mod_mat_indices = mod_mat.sum(axis = 1) != 0\n",
    "    return X[mod_mat_indices]\n",
    "rel_X = find_word(equivalence_set)\n",
    "print(\"type(rel_X): {}\".format(type(rel_X)))\n",
    "print(\"shape: {}\\n\".format(rel_X.shape))\n",
    "X = rel_X"
   ]
  },
  {
   "cell_type": "code",
   "execution_count": 32,
   "metadata": {
    "collapsed": false
   },
   "outputs": [
    {
     "name": "stdout",
     "output_type": "stream",
     "text": [
      "doc id: 0 word id: 1\n",
      "-- count: 0\n",
      "-- word : -\n"
     ]
    }
   ],
   "source": [
    "#example print statements\n",
    "#gets word 3117 from document 0\n",
    "\n",
    "doc_id = 0\n",
    "word_id = 1\n",
    "\n",
    "print(\"doc id: {} word id: {}\".format(doc_id, word_id))\n",
    "print(\"-- count: {}\".format(X[doc_id, word_id]))\n",
    "print(\"-- word : {}\".format(vocab[word_id]))\n",
    "#print(\"-- doc  : {}\".format(titles[doc_id]))"
   ]
  },
  {
   "cell_type": "code",
   "execution_count": 33,
   "metadata": {
    "collapsed": false
   },
   "outputs": [
    {
     "data": {
      "text/plain": [
       "array([[  1.35389610e-01,   1.19047619e-03,   1.08225108e-04, ...,\n",
       "          2.39177489e-02,   3.28030303e-01,   3.35497835e-03],\n",
       "       [  8.07502842e-02,   7.99545282e-03,   1.55740811e-02, ...,\n",
       "          6.10079576e-03,   3.42591891e-01,   1.84956423e-01],\n",
       "       [  3.70300752e-02,   6.26566416e-05,   2.32456140e-02, ...,\n",
       "          6.26566416e-05,   3.13972431e-01,   6.26566416e-05],\n",
       "       ..., \n",
       "       [  3.97590361e-02,   1.72117040e-04,   1.72117040e-04, ...,\n",
       "          1.89328744e-03,   4.08089501e-01,   1.72117040e-04],\n",
       "       [  1.02798507e-01,   1.51119403e-02,   3.91791045e-03, ...,\n",
       "          1.86567164e-04,   3.45335821e-01,   1.86567164e-04],\n",
       "       [  1.53894737e-01,   2.10526316e-04,   2.31578947e-03, ...,\n",
       "          8.63157895e-03,   2.90736842e-01,   2.31578947e-03]])"
      ]
     },
     "execution_count": 33,
     "metadata": {},
     "output_type": "execute_result"
    }
   ],
   "source": [
    "#fitting the model\n",
    "\n",
    "model = lda.LDA(n_topics=20, n_iter=500, random_state=1)\n",
    "model.fit_transform(X)"
   ]
  },
  {
   "cell_type": "code",
   "execution_count": 34,
   "metadata": {
    "collapsed": false
   },
   "outputs": [
    {
     "name": "stdout",
     "output_type": "stream",
     "text": [
      "type(topic_word): <type 'numpy.ndarray'>\n",
      "shape: (20, 38772)\n"
     ]
    }
   ],
   "source": [
    "#topic-word probabilities\n",
    "#shape: (num topics, num words)\n",
    "\n",
    "topic_word = model.topic_word_\n",
    "print(\"type(topic_word): {}\".format(type(topic_word)))\n",
    "print(\"shape: {}\".format(topic_word.shape))"
   ]
  },
  {
   "cell_type": "code",
   "execution_count": 35,
   "metadata": {
    "collapsed": false
   },
   "outputs": [
    {
     "name": "stdout",
     "output_type": "stream",
     "text": [
      "topic: 0 sum: 1.0\n",
      "topic: 1 sum: 1.0\n",
      "topic: 2 sum: 1.0\n",
      "topic: 3 sum: 1.0\n",
      "topic: 4 sum: 1.0\n"
     ]
    }
   ],
   "source": [
    "for n in range(5):\n",
    "    sum_pr = sum(topic_word[n,:])\n",
    "    print(\"topic: {} sum: {}\".format(n, sum_pr))"
   ]
  },
  {
   "cell_type": "code",
   "execution_count": 36,
   "metadata": {
    "collapsed": false
   },
   "outputs": [
    {
     "name": "stdout",
     "output_type": "stream",
     "text": [
      "*Topic 0\n",
      "- one -- two also people last years work still first\n",
      "*Topic 1\n",
      "- said police team game football brown carroll c fans coach\n",
      "*Topic 2\n",
      "- said mr ms room christmas york hotel square sticky apartment\n",
      "*Topic 3\n",
      "- city -- ny1 new mayor first giants york world game\n",
      "*Topic 4\n",
      "- list lists magazine bar ms fashion lunch top hot like\n",
      "*Topic 5\n",
      "- school ms schools said mother dr children johnson family choir\n",
      "*Topic 6\n",
      "- mr years died president state first law court department member\n",
      "*Topic 7\n",
      "- book black collection life museum norris photography books history writing\n",
      "*Topic 8\n",
      "- ms judge alito said party nelson house nicolas republican estate\n",
      "*Topic 9\n",
      "- p -- street 5 10 203 7 jan 1 saturday\n",
      "*Topic 10\n",
      "- -- one another good make less many place among something\n",
      "*Topic 11\n",
      "- cheese restaurant chicken food restaurants wine dishes sauce 1 street\n",
      "*Topic 12\n",
      "- oil water tv percent use 99 7 home set money\n",
      "*Topic 13\n",
      "- women world people cultural men human culture bark find century\n",
      "*Topic 14\n",
      "- quagga rau skin cute zebra animal project plains zebras like\n",
      "*Topic 15\n",
      "- said rights united nations human patients commission study council countries\n",
      "*Topic 16\n",
      "- ukraine tymoshenko yushchenko israeli minister prime russia israel political revolution\n",
      "*Topic 17\n",
      "- mr music theater bloom opera grier play director cash prison\n",
      "*Topic 18\n",
      "-  said new like would time black even made year\n",
      "*Topic 19\n",
      "- hartford connecticut world perth australia barrier city river north voorhees\n"
     ]
    }
   ],
   "source": [
    "#spits out top n words for each topic by probability\n",
    "\n",
    "n = 10\n",
    "for i, topic_dist in enumerate(topic_word):\n",
    "    topic_words = np.array(vocab)[np.argsort(topic_dist)][:-(n+1):-1]\n",
    "    print('*Topic {}\\n- {}'.format(i, ' '.join(topic_words)))"
   ]
  },
  {
   "cell_type": "code",
   "execution_count": 37,
   "metadata": {
    "collapsed": false
   },
   "outputs": [
    {
     "name": "stdout",
     "output_type": "stream",
     "text": [
      "type(doc_topic): <type 'numpy.ndarray'>\n",
      "shape: (120, 20)\n"
     ]
    }
   ],
   "source": [
    "#document-topic probabilities\n",
    "#shape: (num documents, num topics)\n",
    "\n",
    "doc_topic = model.doc_topic_\n",
    "print(\"type(doc_topic): {}\".format(type(doc_topic)))\n",
    "print(\"shape: {}\".format(doc_topic.shape))"
   ]
  },
  {
   "cell_type": "code",
   "execution_count": 38,
   "metadata": {
    "collapsed": false
   },
   "outputs": [
    {
     "data": {
      "text/plain": [
       "{1: 3, 3: 4, 4: 1, 6: 3, 8: 1, 11: 5, 12: 3, 13: 1, 15: 5, 18: 88, 19: 1}"
      ]
     },
     "execution_count": 38,
     "metadata": {},
     "output_type": "execute_result"
    }
   ],
   "source": [
    "dist = {}\n",
    "for i in range(115):\n",
    "    topic = doc_topic[i].argmax()\n",
    "    if topic in dist:\n",
    "        dist[topic] += 1\n",
    "    else:\n",
    "        dist[topic] = 1\n",
    "    #print(\"{} (top topic: {})\".format(i, doc_topic[i].argmax()))\n",
    "dist"
   ]
  },
  {
   "cell_type": "code",
   "execution_count": 46,
   "metadata": {
    "collapsed": true
   },
   "outputs": [],
   "source": [
    "#visualizing the inference - matlab setup/imports\n",
    "import matplotlib.pyplot as plt\n",
    "\n",
    "# use matplotlib style sheet\n",
    "try:\n",
    "    plt.style.use('ggplot')\n",
    "except:\n",
    "    # version of matplotlib might not be recent\n",
    "    pass"
   ]
  },
  {
   "cell_type": "markdown",
   "metadata": {},
   "source": [
    "right now the plots don't print? it just throws the notebook into busy mode for a very long time so not sure if something is off"
   ]
  },
  {
   "cell_type": "code",
   "execution_count": null,
   "metadata": {
    "collapsed": false
   },
   "outputs": [
    {
     "name": "stderr",
     "output_type": "stream",
     "text": [
      "/Users/theodorachu/anaconda2/lib/python2.7/site-packages/matplotlib/tight_layout.py:222: UserWarning: tight_layout : falling back to Agg renderer\n",
      "  warnings.warn(\"tight_layout : falling back to Agg renderer\")\n"
     ]
    }
   ],
   "source": [
    "#stem plots - height of each stem reflects the probability of the word in the focus topic\n",
    "\n",
    "f, ax= plt.subplots(5, 1, figsize=(8, 6), sharex=True)\n",
    "for i, k in enumerate([0, 5, 9, 14, 19]):\n",
    "    ax[i].stem(topic_word[k,:], linefmt='b-',\n",
    "               markerfmt='bo', basefmt='w-')\n",
    "    ax[i].set_xlim(-50,4350)\n",
    "    ax[i].set_ylim(0, 0.08)\n",
    "    ax[i].set_ylabel(\"Prob\")\n",
    "    ax[i].set_title(\"topic {}\".format(k))\n",
    "\n",
    "ax[4].set_xlabel(\"word\")\n",
    "\n",
    "plt.draw()\n",
    "plt.tight_layout()\n",
    "plt.show()"
   ]
  },
  {
   "cell_type": "code",
   "execution_count": null,
   "metadata": {
    "collapsed": true
   },
   "outputs": [],
   "source": [
    "#topic distribution - probability of each of the 20 topics for every document\n",
    "f, ax= plt.subplots(5, 1, figsize=(8, 6), sharex=True)\n",
    "for i, k in enumerate([1, 3, 4, 8, 9]): #only plotting these specified topics\n",
    "    ax[i].stem(doc_topic[k,:], linefmt='r-',\n",
    "               markerfmt='ro', basefmt='w-')\n",
    "    ax[i].set_xlim(-1, 21)\n",
    "    ax[i].set_ylim(0, 1)\n",
    "    ax[i].set_ylabel(\"Prob\")\n",
    "    ax[i].set_title(\"Document {}\".format(k))\n",
    "\n",
    "ax[4].set_xlabel(\"Topic\")\n",
    "\n",
    "plt.tight_layout()\n",
    "plt.show()"
   ]
  },
  {
   "cell_type": "markdown",
   "metadata": {
    "collapsed": true
   },
   "source": [
    "# Deprecated Methods"
   ]
  },
  {
   "cell_type": "code",
   "execution_count": null,
   "metadata": {
    "collapsed": true
   },
   "outputs": [],
   "source": [
    "def parseTextFile(filename):\n",
    "    text = open('cor-por-a/' + filename, 'r')\n",
    "    for i in range(0, 10):\n",
    "        print text.readline()\n",
    "    text_parse = text.read().split()\n",
    "    #print text_parse\n",
    "\n",
    "    lancaster = LancasterStemmer()\n",
    "#     print lancaster.stem('maximum') \n",
    "\n",
    "    porter = PorterStemmer()\n",
    "    return text_parse\n",
    "#     print porter.stem('maximum')    \n",
    "\n",
    "#parseTextFile('TomSawyer.txt')"
   ]
  },
  {
   "cell_type": "code",
   "execution_count": null,
   "metadata": {
    "collapsed": true
   },
   "outputs": [],
   "source": [
    "# This takes fucking forever\n",
    "def createMatrix(): ###DEPRECATED###\n",
    "    # Initializes vector of terms\n",
    "    u_vec = [x.lower() for x in parseTextFile('TomSawyer.txt')];\n",
    "    vocab_vec = np.unique(u_vec).tolist()\n",
    "    vocab_size = len(vocab_vec)\n",
    "    mat = [[0 for x in range(vocab_size)] for y in range(vocab_size)]\n",
    "    \n",
    "    # Updates matrix, using bigrams\n",
    "    for i in range(0, len(u_vec)-1):\n",
    "        term_one = u_vec[i];\n",
    "        term_two = u_vec[i+1];\n",
    "        index_one = vocab_vec.index(term_one)\n",
    "        index_two = vocab_vec.index(term_two)\n",
    "        mat[index_one][index_one] += 1;\n",
    "        mat[index_one][index_two] += 1;\n",
    "        mat[index_two][index_one] += 1;\n",
    "\n",
    "    last_term = u_vec[len(u_vec)-1]\n",
    "    last_term_index = vocab_vec.index(last_term)\n",
    "    mat[last_term_index][last_term_index] += 1\n",
    "    return (mat, vocab_vec);"
   ]
  },
  {
   "cell_type": "code",
   "execution_count": null,
   "metadata": {
    "collapsed": true
   },
   "outputs": [],
   "source": [
    "from __future__ import division\n",
    "def pmi(mat, rownames=None, positive=True):  \n",
    "    # Joint probability table:\n",
    "    p = mat / np.sum(mat, axis=None)\n",
    "    # Pre-compute column sums:\n",
    "    colprobs = np.sum(p, axis=0)\n",
    "    # Vectorize this function so that it can be applied rowwise:\n",
    "    np_pmi_log = np.vectorize((lambda x : _pmi_log(x, positive=positive)))\n",
    "    p = np.array([np_pmi_log(row / (np.sum(row)*colprobs)) for row in p])   \n",
    "    return (p, rownames)"
   ]
  },
  {
   "cell_type": "code",
   "execution_count": null,
   "metadata": {
    "collapsed": true
   },
   "outputs": [],
   "source": [
    "def correlateds(word, mat, rownames, distfunc=cosine):\n",
    "    if word not in rownames:\n",
    "        raise ValueError('%s is not in this VSM' % word)\n",
    "    w = mat[rownames.index(word)]\n",
    "    dists = [(rownames[i], w[i]) for i in range(len(mat))]\n",
    "    #print dists\n",
    "    sorted_dists = sorted(dists, key=itemgetter(1), reverse=True)\n",
    "    # print sorted_dists\n",
    "    return sorted_dists"
   ]
  },
  {
   "cell_type": "code",
   "execution_count": null,
   "metadata": {
    "collapsed": true
   },
   "outputs": [],
   "source": [
    "# The correlation list returns an ordered list of (word, correlation_score) tuples, where higher correlation_score\n",
    "# means the word is more correlated. The correlation list includes all words in the vocabulary, so you can\n",
    "# selectively take the first n elements if you want to use them.\n",
    "def correlationList(mat_ppmi):\n",
    "    return correlateds(word='colored', mat=mat_ppmi[0], rownames=mat_ppmi[1], distfunc=cosine)"
   ]
  },
  {
   "cell_type": "code",
   "execution_count": null,
   "metadata": {
    "collapsed": true
   },
   "outputs": [],
   "source": [
    "###DEPRECATED###\n",
    "# neighbors_list = neighbors(word='colored', mat=mat_ppmi[0], rownames=mat_ppmi[1], distfunc=cosine)[: 50]\n",
    "# print neighbors_list\n",
    "\n",
    "# def retrieve_words(tuple_list):\n",
    "#     words = list()\n",
    "#     for _tuple in tuple_list:\n",
    "#         words.append(_tuple[0])\n",
    "#     return words\n",
    "\n",
    "# neighbors_word_list = retrieve_words(neighbors_list)\n",
    "# print neighbors_word_list"
   ]
  }
 ],
 "metadata": {
  "kernelspec": {
   "display_name": "Python 2",
   "language": "python",
   "name": "python2"
  },
  "language_info": {
   "codemirror_mode": {
    "name": "ipython",
    "version": 2
   },
   "file_extension": ".py",
   "mimetype": "text/x-python",
   "name": "python",
   "nbconvert_exporter": "python",
   "pygments_lexer": "ipython2",
   "version": "2.7.11"
  }
 },
 "nbformat": 4,
 "nbformat_minor": 0
}
